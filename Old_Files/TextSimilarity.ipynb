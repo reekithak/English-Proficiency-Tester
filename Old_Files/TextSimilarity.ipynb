{
 "cells": [
  {
   "cell_type": "markdown",
   "metadata": {},
   "source": [
    "Represent documents as vectors of features, and compare documents by measuring the distance between these features. There are multiple ways to compute features that capture the semantics o|f documents and multiple algorithms to capture dependency structure of documents to focus on meanings of documents."
   ]
  },
  {
   "cell_type": "markdown",
   "metadata": {},
   "source": [
    "**Measures**"
   ]
  },
  {
   "cell_type": "markdown",
   "metadata": {},
   "source": [
    "- Jaccard Similarity\n",
    "- Different embeddings+ K-means \n",
    "- Different embeddings+ Cosine Similarity\n",
    "- Word2Vec + Smooth Inverse Frequency + Cosine Similarity \n",
    "- Different embeddings+LSI + Cosine Similarity\n",
    "- Different embeddings+ LDA + Jensen-Shannon distance \n",
    "- Different embeddings+ Word Mover Distance \n",
    "- Different embeddings+ Variational Auto Encoder (VAE) \n",
    "- Different embeddings+ Universal sentence encoder \n",
    "- Different embeddings+ Siamese Manhattan LSTM\n",
    "- BERT embeddings + Cosine Similarity \n",
    "- Knowledge-based Measures "
   ]
  },
  {
   "cell_type": "markdown",
   "metadata": {},
   "source": [
    "**Different Embeddings**"
   ]
  },
  {
   "cell_type": "markdown",
   "metadata": {
    "ExecuteTime": {
     "end_time": "2021-01-25T19:42:49.290435Z",
     "start_time": "2021-01-25T19:42:49.276435Z"
    }
   },
   "source": [
    "- Bag of Words (BoW)\n",
    "- Term Frequency - Inverse Document Frequency (TF-IDF)\n",
    "- Continuous BoW (CBOW) model and SkipGram model embedding(SkipGram)\n",
    "- Pre-trained word embedding models : \n",
    "     ->  Word2Vec (by Google)\n",
    "     ->  GloVe (by Stanford)\n",
    "     ->  fastText (by Facebook)\n",
    "- Poincarré embedding\n",
    "- Node2Vec embedding based on Random Walk and Graph\n"
   ]
  },
  {
   "cell_type": "code",
   "execution_count": null,
   "metadata": {},
   "outputs": [],
   "source": []
  }
 ],
 "metadata": {
  "kernelspec": {
   "display_name": "Python 3",
   "language": "python",
   "name": "python3"
  },
  "language_info": {
   "codemirror_mode": {
    "name": "ipython",
    "version": 3
   },
   "file_extension": ".py",
   "mimetype": "text/x-python",
   "name": "python",
   "nbconvert_exporter": "python",
   "pygments_lexer": "ipython3",
   "version": "3.7.8"
  }
 },
 "nbformat": 4,
 "nbformat_minor": 4
}
