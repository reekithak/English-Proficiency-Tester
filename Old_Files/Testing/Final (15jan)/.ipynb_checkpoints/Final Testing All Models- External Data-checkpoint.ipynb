{
 "cells": [
  {
   "cell_type": "markdown",
   "metadata": {},
   "source": [
    "**Creating Images**"
   ]
  },
  {
   "cell_type": "code",
   "execution_count": 54,
   "metadata": {
    "ExecuteTime": {
     "end_time": "2021-01-15T15:57:43.986060Z",
     "start_time": "2021-01-15T15:57:43.977023Z"
    }
   },
   "outputs": [
    {
     "data": {
      "text/plain": [
       "'audio_file= r\"D:\\\\working repos\\\\AltRekruit\\\\Testing\\\\Final (15jan)\\x07udio\\\\good_2.wav\"\\ncreate_spectrogram_images(audio_file)'"
      ]
     },
     "execution_count": 54,
     "metadata": {},
     "output_type": "execute_result"
    }
   ],
   "source": [
    "import cv2\n",
    "from keras.models import load_model\n",
    "from keras.preprocessing import image\n",
    "import matplotlib.pyplot as plt\n",
    "import numpy as np\n",
    "import librosa\n",
    "import librosa.display\n",
    "\n",
    "def create_spectrogram_images(filename):\n",
    "    plt.interactive(False)\n",
    "    clip,sample_rate = librosa.load(filename,sr=None)\n",
    "    fig = plt.figure(figsize=[0.74,0.74])\n",
    "    \n",
    "    ax = fig.add_subplot(111)\n",
    "    ax.axes.get_xaxis().set_visible(False)\n",
    "    ax.axes.get_yaxis().set_visible(False)\n",
    "    ax.set_frame_on(False)\n",
    "    \n",
    "    s = librosa.feature.melspectrogram(y=clip,sr=sample_rate)\n",
    "    librosa.display.specshow(librosa.power_to_db(s,ref=np.max))\n",
    "    \n",
    "    plt.savefig(filename[:-3]+\"jpg\",dpi=400,bbox_inches='tight',pad_inches=0)\n",
    "    \n",
    "'''audio_file= r\"D:\\working repos\\AltRekruit\\Testing\\Final (15jan)\\audio\\good_2.wav\"\n",
    "create_spectrogram_images(audio_file)'''"
   ]
  },
  {
   "cell_type": "code",
   "execution_count": 53,
   "metadata": {
    "ExecuteTime": {
     "end_time": "2021-01-15T15:57:41.608669Z",
     "start_time": "2021-01-15T15:57:41.595670Z"
    }
   },
   "outputs": [],
   "source": [
    "from keras.preprocessing import image\n",
    "from keras.applications.resnet50 import preprocess_input\n",
    "import numpy as np\n",
    "import tensorflow.keras"
   ]
  },
  {
   "cell_type": "markdown",
   "metadata": {},
   "source": [
    "Note:- Class 0 is bad , Class 1 is good"
   ]
  },
  {
   "cell_type": "markdown",
   "metadata": {},
   "source": [
    "**Loading Images**"
   ]
  },
  {
   "cell_type": "code",
   "execution_count": 55,
   "metadata": {
    "ExecuteTime": {
     "end_time": "2021-01-15T15:57:50.051436Z",
     "start_time": "2021-01-15T15:57:50.019077Z"
    }
   },
   "outputs": [],
   "source": [
    "b_img_path = r\"D:\\working repos\\AltRekruit\\Testing\\Final (15jan)\\images\\bad_2.jpg\"\n",
    "b_img = image.load_img(b_img_path, target_size=(224,224))\n",
    "b_img = image.img_to_array(b_img)\n",
    "b_img = np.expand_dims(b_img, axis=0)\n",
    "\n",
    "\n",
    "g_img_path = r\"D:\\working repos\\AltRekruit\\Testing\\Final (15jan)\\images\\good_2.jpg\"\n",
    "g_img = image.load_img(g_img_path, target_size=(224,224))\n",
    "g_img = image.img_to_array(g_img)\n",
    "g_img = np.expand_dims(g_img, axis=0)\n"
   ]
  },
  {
   "cell_type": "markdown",
   "metadata": {},
   "source": [
    "**Vgg-16**"
   ]
  },
  {
   "cell_type": "code",
   "execution_count": 56,
   "metadata": {
    "ExecuteTime": {
     "end_time": "2021-01-15T15:57:51.899931Z",
     "start_time": "2021-01-15T15:57:51.419016Z"
    }
   },
   "outputs": [],
   "source": [
    "model = tensorflow.keras.models.load_model(r'D:\\working repos\\AltRekruit-Models\\Models(15jan)\\Models\\vgg16.h5')"
   ]
  },
  {
   "cell_type": "code",
   "execution_count": 57,
   "metadata": {
    "ExecuteTime": {
     "end_time": "2021-01-15T15:57:52.549857Z",
     "start_time": "2021-01-15T15:57:52.530276Z"
    }
   },
   "outputs": [],
   "source": [
    "from keras.applications.vgg16 import preprocess_input\n",
    "b_img = preprocess_input(b_img)\n",
    "g_img = preprocess_input(g_img)"
   ]
  },
  {
   "cell_type": "code",
   "execution_count": 58,
   "metadata": {
    "ExecuteTime": {
     "end_time": "2021-01-15T15:57:55.607494Z",
     "start_time": "2021-01-15T15:57:55.458500Z"
    }
   },
   "outputs": [
    {
     "name": "stdout",
     "output_type": "stream",
     "text": [
      "WARNING:tensorflow:6 out of the last 12 calls to <function Model.make_predict_function.<locals>.predict_function at 0x0000025439549048> triggered tf.function retracing. Tracing is expensive and the excessive number of tracings could be due to (1) creating @tf.function repeatedly in a loop, (2) passing tensors with different shapes, (3) passing Python objects instead of tensors. For (1), please define your @tf.function outside of the loop. For (2), @tf.function has experimental_relax_shapes=True option that relaxes argument shapes that can avoid unnecessary retracing. For (3), please refer to https://www.tensorflow.org/tutorials/customization/performance#python_or_tensor_args and https://www.tensorflow.org/api_docs/python/tf/function for  more details.\n",
      "[[0.9956197 0.0043803]]\n"
     ]
    }
   ],
   "source": [
    "print(model.predict(b_img))"
   ]
  },
  {
   "cell_type": "code",
   "execution_count": 59,
   "metadata": {
    "ExecuteTime": {
     "end_time": "2021-01-15T15:58:08.380514Z",
     "start_time": "2021-01-15T15:58:08.307414Z"
    }
   },
   "outputs": [
    {
     "name": "stdout",
     "output_type": "stream",
     "text": [
      "[[0.99965143 0.00034851]]\n"
     ]
    }
   ],
   "source": [
    "print(model.predict(g_img))"
   ]
  },
  {
   "cell_type": "markdown",
   "metadata": {},
   "source": [
    "**Vgg-19**"
   ]
  },
  {
   "cell_type": "code",
   "execution_count": 60,
   "metadata": {
    "ExecuteTime": {
     "end_time": "2021-01-15T15:58:21.400225Z",
     "start_time": "2021-01-15T15:58:21.083159Z"
    }
   },
   "outputs": [],
   "source": [
    "model = tensorflow.keras.models.load_model(r'D:\\working repos\\AltRekruit-Models\\Models(15jan)\\Models\\vgg19.h5')"
   ]
  },
  {
   "cell_type": "code",
   "execution_count": 61,
   "metadata": {
    "ExecuteTime": {
     "end_time": "2021-01-15T15:58:22.520908Z",
     "start_time": "2021-01-15T15:58:22.513905Z"
    }
   },
   "outputs": [],
   "source": [
    "from keras.applications.vgg19 import preprocess_input\n",
    "b_img = preprocess_input(b_img)\n",
    "g_img = preprocess_input(g_img)"
   ]
  },
  {
   "cell_type": "code",
   "execution_count": 62,
   "metadata": {
    "ExecuteTime": {
     "end_time": "2021-01-15T15:58:23.644966Z",
     "start_time": "2021-01-15T15:58:23.473797Z"
    }
   },
   "outputs": [
    {
     "name": "stdout",
     "output_type": "stream",
     "text": [
      "WARNING:tensorflow:6 out of the last 12 calls to <function Model.make_predict_function.<locals>.predict_function at 0x000002542B03DE58> triggered tf.function retracing. Tracing is expensive and the excessive number of tracings could be due to (1) creating @tf.function repeatedly in a loop, (2) passing tensors with different shapes, (3) passing Python objects instead of tensors. For (1), please define your @tf.function outside of the loop. For (2), @tf.function has experimental_relax_shapes=True option that relaxes argument shapes that can avoid unnecessary retracing. For (3), please refer to https://www.tensorflow.org/tutorials/customization/performance#python_or_tensor_args and https://www.tensorflow.org/api_docs/python/tf/function for  more details.\n",
      "[[0.9979767  0.00202334]]\n"
     ]
    }
   ],
   "source": [
    "print(model.predict(b_img))"
   ]
  },
  {
   "cell_type": "code",
   "execution_count": 63,
   "metadata": {
    "ExecuteTime": {
     "end_time": "2021-01-15T15:58:32.140130Z",
     "start_time": "2021-01-15T15:58:32.075132Z"
    }
   },
   "outputs": [
    {
     "name": "stdout",
     "output_type": "stream",
     "text": [
      "[[0.99991465 0.00008531]]\n"
     ]
    }
   ],
   "source": [
    "print(model.predict(g_img))"
   ]
  },
  {
   "cell_type": "markdown",
   "metadata": {},
   "source": [
    "**Resnet50**"
   ]
  },
  {
   "cell_type": "code",
   "execution_count": 64,
   "metadata": {
    "ExecuteTime": {
     "end_time": "2021-01-15T15:58:46.869299Z",
     "start_time": "2021-01-15T15:58:45.594052Z"
    }
   },
   "outputs": [],
   "source": [
    "model = tensorflow.keras.models.load_model(r'D:\\working repos\\AltRekruit-Models\\Models(15jan)\\Models\\res50.h5')"
   ]
  },
  {
   "cell_type": "code",
   "execution_count": 65,
   "metadata": {
    "ExecuteTime": {
     "end_time": "2021-01-15T15:58:46.885243Z",
     "start_time": "2021-01-15T15:58:46.871281Z"
    }
   },
   "outputs": [],
   "source": [
    "from keras.applications.resnet50 import preprocess_input\n",
    "b_img = preprocess_input(b_img)\n",
    "g_img = preprocess_input(g_img)"
   ]
  },
  {
   "cell_type": "code",
   "execution_count": 66,
   "metadata": {
    "ExecuteTime": {
     "end_time": "2021-01-15T15:58:48.309528Z",
     "start_time": "2021-01-15T15:58:47.610489Z"
    }
   },
   "outputs": [
    {
     "name": "stdout",
     "output_type": "stream",
     "text": [
      "WARNING:tensorflow:6 out of the last 11 calls to <function Model.make_predict_function.<locals>.predict_function at 0x00000254421B3AF8> triggered tf.function retracing. Tracing is expensive and the excessive number of tracings could be due to (1) creating @tf.function repeatedly in a loop, (2) passing tensors with different shapes, (3) passing Python objects instead of tensors. For (1), please define your @tf.function outside of the loop. For (2), @tf.function has experimental_relax_shapes=True option that relaxes argument shapes that can avoid unnecessary retracing. For (3), please refer to https://www.tensorflow.org/tutorials/customization/performance#python_or_tensor_args and https://www.tensorflow.org/api_docs/python/tf/function for  more details.\n",
      "[[0.12082835 0.8791716 ]]\n"
     ]
    }
   ],
   "source": [
    "print(model.predict(b_img))"
   ]
  },
  {
   "cell_type": "code",
   "execution_count": 67,
   "metadata": {
    "ExecuteTime": {
     "end_time": "2021-01-15T15:59:02.852896Z",
     "start_time": "2021-01-15T15:59:02.793396Z"
    }
   },
   "outputs": [
    {
     "name": "stdout",
     "output_type": "stream",
     "text": [
      "[[0.02913971 0.9708603 ]]\n"
     ]
    }
   ],
   "source": [
    "print(model.predict(g_img))"
   ]
  },
  {
   "cell_type": "markdown",
   "metadata": {},
   "source": [
    "**Custom -TM(image)**"
   ]
  },
  {
   "cell_type": "code",
   "execution_count": 68,
   "metadata": {
    "ExecuteTime": {
     "end_time": "2021-01-15T15:59:26.063994Z",
     "start_time": "2021-01-15T15:59:26.060024Z"
    }
   },
   "outputs": [],
   "source": [
    "import tensorflow.keras\n",
    "from PIL import Image, ImageOps\n",
    "import numpy as np"
   ]
  },
  {
   "cell_type": "code",
   "execution_count": 69,
   "metadata": {
    "ExecuteTime": {
     "end_time": "2021-01-15T15:59:29.874786Z",
     "start_time": "2021-01-15T15:59:27.010745Z"
    }
   },
   "outputs": [
    {
     "name": "stdout",
     "output_type": "stream",
     "text": [
      "WARNING:tensorflow:No training configuration found in the save file, so the model was *not* compiled. Compile it manually.\n"
     ]
    }
   ],
   "source": [
    "model = tensorflow.keras.models.load_model(r'D:\\working repos\\AltRekruit-Models\\Models(15jan)\\Models\\tm_custom_model(image-pairs).h5')"
   ]
  },
  {
   "cell_type": "code",
   "execution_count": 70,
   "metadata": {
    "ExecuteTime": {
     "end_time": "2021-01-15T15:59:29.905762Z",
     "start_time": "2021-01-15T15:59:29.876760Z"
    }
   },
   "outputs": [],
   "source": [
    "np.set_printoptions(suppress=True)\n",
    "model.compile(loss='binary_crossentropy',\n",
    "              optimizer='rmsprop',\n",
    "              metrics=['accuracy'])"
   ]
  },
  {
   "cell_type": "code",
   "execution_count": 71,
   "metadata": {
    "ExecuteTime": {
     "end_time": "2021-01-15T15:59:29.921758Z",
     "start_time": "2021-01-15T15:59:29.907759Z"
    }
   },
   "outputs": [],
   "source": [
    "data = np.ndarray(shape=(1, 224, 224, 3), dtype=np.float32)"
   ]
  },
  {
   "cell_type": "code",
   "execution_count": 72,
   "metadata": {
    "ExecuteTime": {
     "end_time": "2021-01-15T15:59:31.914171Z",
     "start_time": "2021-01-15T15:59:31.898537Z"
    }
   },
   "outputs": [],
   "source": [
    "g_img = Image.open(r\"D:\\working repos\\AltRekruit\\Testing\\Final (15jan)\\images\\good_2.jpg\")"
   ]
  },
  {
   "cell_type": "code",
   "execution_count": 73,
   "metadata": {
    "ExecuteTime": {
     "end_time": "2021-01-15T15:59:32.675632Z",
     "start_time": "2021-01-15T15:59:32.666636Z"
    }
   },
   "outputs": [],
   "source": [
    "size = (224, 224)\n",
    "g_img = ImageOps.fit(g_img, size, Image.ANTIALIAS)"
   ]
  },
  {
   "cell_type": "code",
   "execution_count": 74,
   "metadata": {
    "ExecuteTime": {
     "end_time": "2021-01-15T15:59:34.213269Z",
     "start_time": "2021-01-15T15:59:33.627297Z"
    }
   },
   "outputs": [
    {
     "name": "stdout",
     "output_type": "stream",
     "text": [
      "WARNING:tensorflow:6 out of the last 11 calls to <function Model.make_predict_function.<locals>.predict_function at 0x0000025444335438> triggered tf.function retracing. Tracing is expensive and the excessive number of tracings could be due to (1) creating @tf.function repeatedly in a loop, (2) passing tensors with different shapes, (3) passing Python objects instead of tensors. For (1), please define your @tf.function outside of the loop. For (2), @tf.function has experimental_relax_shapes=True option that relaxes argument shapes that can avoid unnecessary retracing. For (3), please refer to https://www.tensorflow.org/tutorials/customization/performance#python_or_tensor_args and https://www.tensorflow.org/api_docs/python/tf/function for  more details.\n"
     ]
    },
    {
     "data": {
      "text/plain": [
       "array([[0.02418402, 0.975816  ]], dtype=float32)"
      ]
     },
     "execution_count": 74,
     "metadata": {},
     "output_type": "execute_result"
    }
   ],
   "source": [
    "image_array = np.asarray(g_img)\n",
    "normalized_image_array = (image_array.astype(np.float32) / 127.0) - 1\n",
    "# Load the image into array\n",
    "data[0] = normalized_image_array\n",
    "prediction = model.predict(data)\n",
    "prediction"
   ]
  },
  {
   "cell_type": "markdown",
   "metadata": {},
   "source": [
    " "
   ]
  },
  {
   "cell_type": "markdown",
   "metadata": {},
   "source": [
    "  "
   ]
  },
  {
   "cell_type": "code",
   "execution_count": 75,
   "metadata": {
    "ExecuteTime": {
     "end_time": "2021-01-15T15:59:45.285082Z",
     "start_time": "2021-01-15T15:59:45.275082Z"
    }
   },
   "outputs": [],
   "source": [
    "b_img = Image.open(r\"D:\\working repos\\AltRekruit\\Testing\\Final (15jan)\\images\\bad_2.jpg\")\n",
    "size = (224, 224)\n",
    "b_img = ImageOps.fit(b_img, size, Image.ANTIALIAS)"
   ]
  },
  {
   "cell_type": "code",
   "execution_count": 76,
   "metadata": {
    "ExecuteTime": {
     "end_time": "2021-01-15T15:59:46.270918Z",
     "start_time": "2021-01-15T15:59:46.227004Z"
    }
   },
   "outputs": [
    {
     "data": {
      "text/plain": [
       "array([[0.00790193, 0.9920981 ]], dtype=float32)"
      ]
     },
     "execution_count": 76,
     "metadata": {},
     "output_type": "execute_result"
    }
   ],
   "source": [
    "image_array = np.asarray(b_img)\n",
    "normalized_image_array = (image_array.astype(np.float32) / 127.0) - 1\n",
    "# Load the image into array\n",
    "data[0] = normalized_image_array\n",
    "prediction = model.predict(data)\n",
    "prediction"
   ]
  },
  {
   "cell_type": "markdown",
   "metadata": {},
   "source": [
    "**Naive-Model**"
   ]
  },
  {
   "cell_type": "code",
   "execution_count": 83,
   "metadata": {
    "ExecuteTime": {
     "end_time": "2021-01-15T16:00:36.990128Z",
     "start_time": "2021-01-15T16:00:36.498344Z"
    }
   },
   "outputs": [],
   "source": [
    "model = tensorflow.keras.models.load_model(r'D:\\working repos\\AltRekruit-Models\\Models(15jan)\\Models\\naive.h5')"
   ]
  },
  {
   "cell_type": "code",
   "execution_count": 84,
   "metadata": {
    "ExecuteTime": {
     "end_time": "2021-01-15T16:00:37.006132Z",
     "start_time": "2021-01-15T16:00:36.991103Z"
    }
   },
   "outputs": [],
   "source": [
    "b_img = image.load_img(r\"D:\\working repos\\AltRekruit\\Testing\\Final (15jan)\\images\\bad_2.jpg\", target_size=(64, 64))\n",
    "\n",
    "g_img = image.load_img(r\"D:\\working repos\\AltRekruit\\Testing\\Final (15jan)\\images\\good_2.jpg\", target_size=(64, 64))"
   ]
  },
  {
   "cell_type": "code",
   "execution_count": 85,
   "metadata": {
    "ExecuteTime": {
     "end_time": "2021-01-15T16:00:38.769881Z",
     "start_time": "2021-01-15T16:00:38.665881Z"
    }
   },
   "outputs": [
    {
     "name": "stdout",
     "output_type": "stream",
     "text": [
      "WARNING:tensorflow:6 out of the last 11 calls to <function Model.make_predict_function.<locals>.predict_function at 0x0000025447339C18> triggered tf.function retracing. Tracing is expensive and the excessive number of tracings could be due to (1) creating @tf.function repeatedly in a loop, (2) passing tensors with different shapes, (3) passing Python objects instead of tensors. For (1), please define your @tf.function outside of the loop. For (2), @tf.function has experimental_relax_shapes=True option that relaxes argument shapes that can avoid unnecessary retracing. For (3), please refer to https://www.tensorflow.org/tutorials/customization/performance#python_or_tensor_args and https://www.tensorflow.org/api_docs/python/tf/function for  more details.\n"
     ]
    },
    {
     "data": {
      "text/plain": [
       "array([[0.4993602, 0.5006398]], dtype=float32)"
      ]
     },
     "execution_count": 85,
     "metadata": {},
     "output_type": "execute_result"
    }
   ],
   "source": [
    "b_img = image.img_to_array(b_img)\n",
    "b_img = np.expand_dims(b_img, axis=0)\n",
    "prob_score = model.predict(b_img)\n",
    "prob_score"
   ]
  },
  {
   "cell_type": "code",
   "execution_count": 86,
   "metadata": {
    "ExecuteTime": {
     "end_time": "2021-01-15T16:00:41.032146Z",
     "start_time": "2021-01-15T16:00:40.978121Z"
    }
   },
   "outputs": [
    {
     "data": {
      "text/plain": [
       "array([[0.38689792, 0.61310214]], dtype=float32)"
      ]
     },
     "execution_count": 86,
     "metadata": {},
     "output_type": "execute_result"
    }
   ],
   "source": [
    "g_img = image.img_to_array(g_img)\n",
    "g_img = np.expand_dims(g_img, axis=0)\n",
    "prob_score = model.predict(g_img)\n",
    "prob_score"
   ]
  },
  {
   "cell_type": "code",
   "execution_count": null,
   "metadata": {},
   "outputs": [],
   "source": []
  },
  {
   "cell_type": "code",
   "execution_count": null,
   "metadata": {},
   "outputs": [],
   "source": []
  }
 ],
 "metadata": {
  "kernelspec": {
   "display_name": "Python 3",
   "language": "python",
   "name": "python3"
  },
  "language_info": {
   "codemirror_mode": {
    "name": "ipython",
    "version": 3
   },
   "file_extension": ".py",
   "mimetype": "text/x-python",
   "name": "python",
   "nbconvert_exporter": "python",
   "pygments_lexer": "ipython3",
   "version": "3.7.8"
  }
 },
 "nbformat": 4,
 "nbformat_minor": 4
}
