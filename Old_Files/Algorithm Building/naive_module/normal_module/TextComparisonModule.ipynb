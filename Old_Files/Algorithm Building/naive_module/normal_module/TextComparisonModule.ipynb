{
 "cells": [
  {
   "cell_type": "markdown",
   "metadata": {},
   "source": [
    "**Simple Jaccard Similarity**\n",
    "- intersection /union ( worst )"
   ]
  },
  {
   "cell_type": "code",
   "execution_count": 11,
   "metadata": {
    "ExecuteTime": {
     "end_time": "2021-02-04T20:30:59.533866Z",
     "start_time": "2021-02-04T20:30:59.527865Z"
    }
   },
   "outputs": [],
   "source": [
    "import random\n",
    "import string"
   ]
  },
  {
   "cell_type": "markdown",
   "metadata": {
    "ExecuteTime": {
     "end_time": "2021-02-01T08:38:51.114588Z",
     "start_time": "2021-02-01T08:38:51.105558Z"
    }
   },
   "source": [
    "#Jaccard out of 1 , comparisor out of 10\n",
    "- sent_1 =  \"As a more transmissible and harder to control coronavirus variant has emerged in the UK and South Africa in recent days dozens of countries have announced they would close their doors to travellers from both nations Some countries like Japan and Israel have gone a step farther banning all foreign nationals from entering\".lower().split(\" \")\n",
    "- sent_2 = \"As a more transmissible and harder to control coronavirus variant has emerged in the UK and South Africa in recent days dozens of countries have announced they would close their doors to travellers from both nations Some countries like Japan and Israel have gone a step farther banning all foreign nationals from enters\".lower().split(\" \")\n",
    "\n",
    "\n"
   ]
  },
  {
   "cell_type": "code",
   "execution_count": 26,
   "metadata": {
    "ExecuteTime": {
     "end_time": "2021-02-04T20:31:22.085329Z",
     "start_time": "2021-02-04T20:31:22.071333Z"
    }
   },
   "outputs": [],
   "source": [
    "sent_1 =  \"akhil is a good bad boy\".lower().split(\" \")\n",
    "sent_2 = \"akhil is a good bad boy\".lower().split(\" \")"
   ]
  },
  {
   "cell_type": "code",
   "execution_count": 20,
   "metadata": {
    "ExecuteTime": {
     "end_time": "2021-02-04T20:31:12.917809Z",
     "start_time": "2021-02-04T20:31:12.910808Z"
    }
   },
   "outputs": [],
   "source": [
    "score_2_pos = 0\n",
    "score_2_neg = 0 "
   ]
  },
  {
   "cell_type": "code",
   "execution_count": 21,
   "metadata": {
    "ExecuteTime": {
     "end_time": "2021-02-04T20:31:13.156807Z",
     "start_time": "2021-02-04T20:31:13.140809Z"
    }
   },
   "outputs": [],
   "source": [
    "def jaccard_sim(generated_text,input_text):\n",
    "    intersection = set(generated_text).intersection(set(input_text))\n",
    "    union = set(generated_text).union(set(input_text))\n",
    "    return len(intersection)/len(union)"
   ]
  },
  {
   "cell_type": "code",
   "execution_count": 22,
   "metadata": {
    "ExecuteTime": {
     "end_time": "2021-02-04T20:31:13.346205Z",
     "start_time": "2021-02-04T20:31:13.334203Z"
    }
   },
   "outputs": [],
   "source": [
    "jaccard_sim(sent_1,sent_2)\n",
    "def direct_comp(A,B):\n",
    "    global score_2_pos,score_2_neg\n",
    "    for x , y in zip(A,B):\n",
    "        if x == y:\n",
    "            score_2_pos+=1\n",
    "        else:\n",
    "            pass\n",
    "        \n",
    "#score1 (15%) , score2 (85%)\n",
    "def final_score(score_1,score_2):\n",
    "    final_score = score_1*.50 + score_2*.50\n",
    "    return final_score"
   ]
  },
  {
   "cell_type": "code",
   "execution_count": 23,
   "metadata": {
    "ExecuteTime": {
     "end_time": "2021-02-04T20:31:13.583202Z",
     "start_time": "2021-02-04T20:31:13.558204Z"
    }
   },
   "outputs": [],
   "source": [
    "def comparisor(generated_text , input_text):\n",
    "    global score_2_pos,score_2_neg\n",
    "    if len(sent_1)==len(sent_2):\n",
    "        direct_comp(sent_1,sent_2)\n",
    "        print(\"length same\")\n",
    "\n",
    "    elif len(sent_1)>len(sent_2):\n",
    "        count_ = len(sent_1)-len(sent_2)\n",
    "        for iter_ in range(count_):\n",
    "            letters = string.ascii_lowercase\n",
    "            sent_2.append(letters)\n",
    "            score_2_neg +=-0.25\n",
    "        direct_comp(sent_1,sent_2)\n",
    "        print(\"In elif\")\n",
    "    else:\n",
    "        count_ = len(sent_2)-len(sent_1)\n",
    "        for iter_ in range(count_):\n",
    "            sent_2.pop(-1)\n",
    "            score_2_neg +=-0.25\n",
    "\n",
    "        direct_comp(sent_1,sent_2)\n",
    "        print(\"In else\")"
   ]
  },
  {
   "cell_type": "code",
   "execution_count": null,
   "metadata": {},
   "outputs": [],
   "source": [
    "comparisor(sent_1,sent_2)"
   ]
  },
  {
   "cell_type": "code",
   "execution_count": 24,
   "metadata": {
    "ExecuteTime": {
     "end_time": "2021-02-04T20:31:13.835055Z",
     "start_time": "2021-02-04T20:31:13.821056Z"
    }
   },
   "outputs": [
    {
     "data": {
      "text/plain": [
       "(10.0, 10.0)"
      ]
     },
     "execution_count": 24,
     "metadata": {},
     "output_type": "execute_result"
    }
   ],
   "source": []
  },
  {
   "cell_type": "code",
   "execution_count": 25,
   "metadata": {
    "ExecuteTime": {
     "end_time": "2021-02-04T20:31:14.182051Z",
     "start_time": "2021-02-04T20:31:14.173049Z"
    }
   },
   "outputs": [
    {
     "name": "stdout",
     "output_type": "stream",
     "text": [
      "In elif\n",
      "Positive Score: 0 , Negative Score: -0.25\n",
      "Final Score on 10 = 3.363095238095238\n"
     ]
    }
   ],
   "source": [
    "print(\"Positive Score:\",score_2_pos,\", Negative Score:\",score_2_neg)\n",
    "score_2 = ((score_2_pos+score_2_neg)/len(sent_1))*10\n",
    "score_1 = jaccard_sim(sent_1,sent_2)*10\n",
    "print(\"Final Score on 10 =\",final_score(score_1,score_2))"
   ]
  },
  {
   "cell_type": "code",
   "execution_count": null,
   "metadata": {},
   "outputs": [],
   "source": [
    "score_1,score_2"
   ]
  },
  {
   "cell_type": "code",
   "execution_count": null,
   "metadata": {},
   "outputs": [],
   "source": []
  },
  {
   "cell_type": "code",
   "execution_count": null,
   "metadata": {},
   "outputs": [],
   "source": []
  },
  {
   "cell_type": "code",
   "execution_count": null,
   "metadata": {},
   "outputs": [],
   "source": []
  },
  {
   "cell_type": "markdown",
   "metadata": {},
   "source": [
    "**Case 1 : Repeating words**"
   ]
  },
  {
   "cell_type": "code",
   "execution_count": 78,
   "metadata": {
    "ExecuteTime": {
     "end_time": "2021-02-04T20:52:10.566294Z",
     "start_time": "2021-02-04T20:52:10.547296Z"
    }
   },
   "outputs": [],
   "source": [
    "sent_1 =  \"akhil is a good bad boy\".lower().split(\" \")\n",
    "sent_2 = \"akhil is a good bad bad boy\".lower().split(\" \")\n",
    "score_2_pos = 0\n",
    "score_2_neg = 0 "
   ]
  },
  {
   "cell_type": "code",
   "execution_count": 79,
   "metadata": {
    "ExecuteTime": {
     "end_time": "2021-02-04T20:52:10.805295Z",
     "start_time": "2021-02-04T20:52:10.785297Z"
    }
   },
   "outputs": [
    {
     "data": {
      "text/plain": [
       "'good'"
      ]
     },
     "execution_count": 79,
     "metadata": {},
     "output_type": "execute_result"
    }
   ],
   "source": [
    "sent_1.pop(3)"
   ]
  },
  {
   "cell_type": "code",
   "execution_count": 80,
   "metadata": {
    "ExecuteTime": {
     "end_time": "2021-02-04T20:52:11.057292Z",
     "start_time": "2021-02-04T20:52:11.037292Z"
    }
   },
   "outputs": [
    {
     "data": {
      "text/plain": [
       "['akhil', 'is', 'a', 'bad', 'boy']"
      ]
     },
     "execution_count": 80,
     "metadata": {},
     "output_type": "execute_result"
    }
   ],
   "source": [
    "sent_1"
   ]
  },
  {
   "cell_type": "code",
   "execution_count": 68,
   "metadata": {
    "ExecuteTime": {
     "end_time": "2021-02-04T20:45:14.355859Z",
     "start_time": "2021-02-04T20:45:14.346854Z"
    }
   },
   "outputs": [],
   "source": [
    "larger = 1\n",
    "if abs(len(sent_1)-len(sent_2)) == 0:\n",
    "    total_length = len(sent_1)\n",
    "    larger = 1\n",
    "else:\n",
    "    if len(sent_1)>len(sent_2):\n",
    "        total_length = len(sent_1)\n",
    "    else:\n",
    "        total_length = len(sent_2)\n",
    "        larger = 2"
   ]
  },
  {
   "cell_type": "code",
   "execution_count": 70,
   "metadata": {
    "ExecuteTime": {
     "end_time": "2021-02-04T20:45:18.216537Z",
     "start_time": "2021-02-04T20:45:18.203539Z"
    }
   },
   "outputs": [
    {
     "data": {
      "text/plain": [
       "(7, 2)"
      ]
     },
     "execution_count": 70,
     "metadata": {},
     "output_type": "execute_result"
    }
   ],
   "source": [
    "total_length , larger"
   ]
  },
  {
   "cell_type": "code",
   "execution_count": 72,
   "metadata": {
    "ExecuteTime": {
     "end_time": "2021-02-04T20:47:06.334605Z",
     "start_time": "2021-02-04T20:47:06.322612Z"
    }
   },
   "outputs": [],
   "source": [
    "if larger == 2:\n",
    "    alert_mode = \"on\""
   ]
  },
  {
   "cell_type": "code",
   "execution_count": 73,
   "metadata": {
    "ExecuteTime": {
     "end_time": "2021-02-04T20:50:10.333894Z",
     "start_time": "2021-02-04T20:50:10.321899Z"
    }
   },
   "outputs": [],
   "source": [
    "pos_score = 0\n",
    "neg_score = 0\n"
   ]
  },
  {
   "cell_type": "code",
   "execution_count": null,
   "metadata": {},
   "outputs": [],
   "source": [
    "#sent_1 > sent_2\n",
    "for i in len(sent_1):\n",
    "    try:\n",
    "        if i == len(sent_2+1):\n",
    "            print(\"Breaking out , sent 2 finished\")\n",
    "            break\n",
    "            \n",
    "        if sent_1[i] == sent_2[i]:\n",
    "            pos_score +=1\n",
    "        else:\n",
    "            if sent_1[i] == sent_2[i+1]:\n",
    "                sent_2 .pop()\n",
    "                \n",
    "                \n",
    "                \n",
    "            \n",
    "            \n",
    "    except:\n",
    "        pass\n",
    "    \n",
    "        "
   ]
  },
  {
   "cell_type": "code",
   "execution_count": null,
   "metadata": {},
   "outputs": [],
   "source": []
  }
 ],
 "metadata": {
  "kernelspec": {
   "display_name": "Python 3",
   "language": "python",
   "name": "python3"
  },
  "language_info": {
   "codemirror_mode": {
    "name": "ipython",
    "version": 3
   },
   "file_extension": ".py",
   "mimetype": "text/x-python",
   "name": "python",
   "nbconvert_exporter": "python",
   "pygments_lexer": "ipython3",
   "version": "3.7.8"
  }
 },
 "nbformat": 4,
 "nbformat_minor": 4
}
