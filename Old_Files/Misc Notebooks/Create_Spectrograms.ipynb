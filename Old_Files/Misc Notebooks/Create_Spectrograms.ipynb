{
 "cells": [
  {
   "cell_type": "code",
   "execution_count": 1,
   "metadata": {
    "ExecuteTime": {
     "end_time": "2021-01-19T05:23:56.794629Z",
     "start_time": "2021-01-19T05:23:51.634453Z"
    }
   },
   "outputs": [],
   "source": [
    "import numpy as np\n",
    "import matplotlib.pyplot as plt\n",
    "%matplotlib inline\n",
    "from matplotlib import figure\n",
    "import librosa\n",
    "import librosa.display"
   ]
  },
  {
   "cell_type": "code",
   "execution_count": 2,
   "metadata": {
    "ExecuteTime": {
     "end_time": "2021-01-19T05:23:56.810629Z",
     "start_time": "2021-01-19T05:23:56.797629Z"
    }
   },
   "outputs": [],
   "source": [
    "filename = \"D:/working repos/AltRekruit/Testing/Final (15jan)/audio/bad_1.wav\""
   ]
  },
  {
   "cell_type": "code",
   "execution_count": 3,
   "metadata": {
    "ExecuteTime": {
     "end_time": "2021-01-19T05:23:56.842630Z",
     "start_time": "2021-01-19T05:23:56.818630Z"
    }
   },
   "outputs": [],
   "source": [
    "nm = \"good_\"\n",
    "iter_ = 1\n",
    "repo = \"D:/working repos/AltRekruit/Test_Images/\"\n",
    "def create_spectrogram_images(filename):\n",
    "    global iter_,repo\n",
    "    plt.interactive(False)\n",
    "    clip,sample_rate = librosa.load(filename,sr=None)\n",
    "    fig = plt.figure(figsize=[0.74,0.74])\n",
    "    \n",
    "    ax = fig.add_subplot(111)\n",
    "    ax.axes.get_xaxis().set_visible(False)\n",
    "    ax.axes.get_yaxis().set_visible(False)\n",
    "    ax.set_frame_on(False)\n",
    "    \n",
    "    s = librosa.feature.melspectrogram(y=clip,sr=sample_rate)\n",
    "    librosa.display.specshow(librosa.power_to_db(s,ref=np.max))\n",
    "    \n",
    "    filename = repo+nm+\"_{}\".format(iter_)+\".jpg\"\n",
    "    iter_+=1\n",
    "    plt.savefig(filename,dpi=400,bbox_inches='tight',pad_inches=0)\n",
    "    plt.close()\n",
    "    fig.clf()\n",
    "    plt.close(fig)\n",
    "    plt.close('all')\n",
    "    del filename,clip,sample_rate,fig,ax,s"
   ]
  },
  {
   "cell_type": "code",
   "execution_count": 4,
   "metadata": {
    "ExecuteTime": {
     "end_time": "2021-01-19T05:24:06.508962Z",
     "start_time": "2021-01-19T05:23:56.846629Z"
    }
   },
   "outputs": [],
   "source": [
    "create_spectrogram_images(filename)"
   ]
  }
 ],
 "metadata": {
  "kernelspec": {
   "display_name": "Python 3",
   "language": "python",
   "name": "python3"
  },
  "language_info": {
   "codemirror_mode": {
    "name": "ipython",
    "version": 3
   },
   "file_extension": ".py",
   "mimetype": "text/x-python",
   "name": "python",
   "nbconvert_exporter": "python",
   "pygments_lexer": "ipython3",
   "version": "3.7.8"
  }
 },
 "nbformat": 4,
 "nbformat_minor": 4
}
