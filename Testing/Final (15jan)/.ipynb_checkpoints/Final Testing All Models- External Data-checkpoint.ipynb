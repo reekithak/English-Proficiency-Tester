{
 "cells": [
  {
   "cell_type": "markdown",
   "metadata": {},
   "source": [
    "**Creating Images**"
   ]
  },
  {
   "cell_type": "code",
   "execution_count": 51,
   "metadata": {
    "ExecuteTime": {
     "end_time": "2021-01-12T20:18:43.506060Z",
     "start_time": "2021-01-12T20:18:42.532777Z"
    }
   },
   "outputs": [],
   "source": [
    "import cv2\n",
    "from keras.models import load_model\n",
    "from keras.preprocessing import image\n",
    "import matplotlib.pyplot as plt\n",
    "import numpy as np\n",
    "import librosa\n",
    "import librosa.display\n",
    "\n",
    "def create_spectrogram_images(filename):\n",
    "    plt.interactive(False)\n",
    "    clip,sample_rate = librosa.load(filename,sr=None)\n",
    "    fig = plt.figure(figsize=[0.74,0.74])\n",
    "    \n",
    "    ax = fig.add_subplot(111)\n",
    "    ax.axes.get_xaxis().set_visible(False)\n",
    "    ax.axes.get_yaxis().set_visible(False)\n",
    "    ax.set_frame_on(False)\n",
    "    \n",
    "    s = librosa.feature.melspectrogram(y=clip,sr=sample_rate)\n",
    "    librosa.display.specshow(librosa.power_to_db(s,ref=np.max))\n",
    "    \n",
    "    plt.savefig(filename[:-3]+\"jpg\",dpi=400,bbox_inches='tight',pad_inches=0)\n",
    "    \n",
    "audio_file= \"E:\\\\DeepLearning\\\\Custom_data\\\\Wavs\\\\good\\\\Good_Audio (1).wav\"\n",
    "create_spectrogram_images(audio_file)"
   ]
  },
  {
   "cell_type": "code",
   "execution_count": 47,
   "metadata": {
    "ExecuteTime": {
     "end_time": "2021-01-12T20:16:38.339464Z",
     "start_time": "2021-01-12T20:16:38.324499Z"
    }
   },
   "outputs": [],
   "source": [
    "from keras.preprocessing import image\n",
    "from keras.applications.resnet50 import preprocess_input\n",
    "import numpy as np\n",
    "import tensorflow.keras"
   ]
  },
  {
   "cell_type": "markdown",
   "metadata": {},
   "source": [
    "Note:- Class 0 is bad , Class 1 is good"
   ]
  },
  {
   "cell_type": "markdown",
   "metadata": {},
   "source": [
    "**Loading Images**"
   ]
  },
  {
   "cell_type": "code",
   "execution_count": 52,
   "metadata": {
    "ExecuteTime": {
     "end_time": "2021-01-12T20:19:17.497775Z",
     "start_time": "2021-01-12T20:19:17.468779Z"
    }
   },
   "outputs": [],
   "source": [
    "b_img_path = \"E:\\\\DeepLearning\\\\Custom_data\\\\Wavs\\\\Bad\\\\bad (1).jpg\"\n",
    "b_img = image.load_img(b_img_path, target_size=(224,224))\n",
    "b_img = image.img_to_array(b_img)\n",
    "b_img = np.expand_dims(b_img, axis=0)\n",
    "\n",
    "\n",
    "g_img_path = \"E:\\\\DeepLearning\\\\Custom_data\\\\Wavs\\\\good\\\\Good_Audio (1).jpg\"\n",
    "g_img = image.load_img(g_img_path, target_size=(224,224))\n",
    "g_img = image.img_to_array(g_img)\n",
    "g_img = np.expand_dims(g_img, axis=0)\n"
   ]
  },
  {
   "cell_type": "markdown",
   "metadata": {},
   "source": [
    "**Vgg-16**"
   ]
  },
  {
   "cell_type": "code",
   "execution_count": 53,
   "metadata": {
    "ExecuteTime": {
     "end_time": "2021-01-12T20:19:23.061318Z",
     "start_time": "2021-01-12T20:19:22.499301Z"
    }
   },
   "outputs": [],
   "source": [
    "model = tensorflow.keras.models.load_model(r'E:\\DeepLearning\\Models\\vgg16.h5')"
   ]
  },
  {
   "cell_type": "code",
   "execution_count": 54,
   "metadata": {
    "ExecuteTime": {
     "end_time": "2021-01-12T20:19:23.540671Z",
     "start_time": "2021-01-12T20:19:23.530672Z"
    }
   },
   "outputs": [],
   "source": [
    "from keras.applications.vgg16 import preprocess_input\n",
    "b_img = preprocess_input(b_img)\n",
    "g_img = preprocess_input(g_img)"
   ]
  },
  {
   "cell_type": "code",
   "execution_count": 55,
   "metadata": {
    "ExecuteTime": {
     "end_time": "2021-01-12T20:19:25.498389Z",
     "start_time": "2021-01-12T20:19:25.292911Z"
    }
   },
   "outputs": [
    {
     "name": "stdout",
     "output_type": "stream",
     "text": [
      "WARNING:tensorflow:6 out of the last 12 calls to <function Model.make_predict_function.<locals>.predict_function at 0x000002434DE47EE8> triggered tf.function retracing. Tracing is expensive and the excessive number of tracings could be due to (1) creating @tf.function repeatedly in a loop, (2) passing tensors with different shapes, (3) passing Python objects instead of tensors. For (1), please define your @tf.function outside of the loop. For (2), @tf.function has experimental_relax_shapes=True option that relaxes argument shapes that can avoid unnecessary retracing. For (3), please refer to https://www.tensorflow.org/tutorials/customization/performance#python_or_tensor_args and https://www.tensorflow.org/api_docs/python/tf/function for  more details.\n",
      "[[0.9999496  0.00005036]]\n"
     ]
    }
   ],
   "source": [
    "print(model.predict(b_img))"
   ]
  },
  {
   "cell_type": "code",
   "execution_count": 56,
   "metadata": {
    "ExecuteTime": {
     "end_time": "2021-01-12T20:19:31.569028Z",
     "start_time": "2021-01-12T20:19:31.491568Z"
    }
   },
   "outputs": [
    {
     "name": "stdout",
     "output_type": "stream",
     "text": [
      "[[0.99989676 0.00010324]]\n"
     ]
    }
   ],
   "source": [
    "print(model.predict(g_img))"
   ]
  },
  {
   "cell_type": "markdown",
   "metadata": {},
   "source": [
    "**Vgg-19**"
   ]
  },
  {
   "cell_type": "code",
   "execution_count": 57,
   "metadata": {
    "ExecuteTime": {
     "end_time": "2021-01-12T20:19:44.520532Z",
     "start_time": "2021-01-12T20:19:42.787212Z"
    }
   },
   "outputs": [],
   "source": [
    "model = tensorflow.keras.models.load_model(r'E:\\DeepLearning\\Models\\vgg19.h5')"
   ]
  },
  {
   "cell_type": "code",
   "execution_count": 58,
   "metadata": {
    "ExecuteTime": {
     "end_time": "2021-01-12T20:19:57.135860Z",
     "start_time": "2021-01-12T20:19:57.115897Z"
    }
   },
   "outputs": [],
   "source": [
    "from keras.applications.vgg19 import preprocess_input\n",
    "b_img = preprocess_input(b_img)\n",
    "g_img = preprocess_input(g_img)"
   ]
  },
  {
   "cell_type": "code",
   "execution_count": 59,
   "metadata": {
    "ExecuteTime": {
     "end_time": "2021-01-12T20:19:58.704788Z",
     "start_time": "2021-01-12T20:19:58.435995Z"
    }
   },
   "outputs": [
    {
     "name": "stdout",
     "output_type": "stream",
     "text": [
      "WARNING:tensorflow:6 out of the last 12 calls to <function Model.make_predict_function.<locals>.predict_function at 0x000002434DF4C318> triggered tf.function retracing. Tracing is expensive and the excessive number of tracings could be due to (1) creating @tf.function repeatedly in a loop, (2) passing tensors with different shapes, (3) passing Python objects instead of tensors. For (1), please define your @tf.function outside of the loop. For (2), @tf.function has experimental_relax_shapes=True option that relaxes argument shapes that can avoid unnecessary retracing. For (3), please refer to https://www.tensorflow.org/tutorials/customization/performance#python_or_tensor_args and https://www.tensorflow.org/api_docs/python/tf/function for  more details.\n",
      "[[0.05446598 0.94553405]]\n"
     ]
    }
   ],
   "source": [
    "print(model.predict(b_img))"
   ]
  },
  {
   "cell_type": "code",
   "execution_count": 65,
   "metadata": {
    "ExecuteTime": {
     "end_time": "2021-01-12T20:21:16.404124Z",
     "start_time": "2021-01-12T20:21:16.163516Z"
    }
   },
   "outputs": [
    {
     "name": "stdout",
     "output_type": "stream",
     "text": [
      "[[0.12661274 0.8733873 ]]\n"
     ]
    }
   ],
   "source": [
    "print(model.predict(g_img))"
   ]
  },
  {
   "cell_type": "markdown",
   "metadata": {},
   "source": [
    "**Resnet50**"
   ]
  },
  {
   "cell_type": "code",
   "execution_count": 66,
   "metadata": {
    "ExecuteTime": {
     "end_time": "2021-01-12T20:21:21.954294Z",
     "start_time": "2021-01-12T20:21:20.675057Z"
    }
   },
   "outputs": [],
   "source": [
    "model = tensorflow.keras.models.load_model(r'E:\\DeepLearning\\Models\\res50.h5')"
   ]
  },
  {
   "cell_type": "code",
   "execution_count": 67,
   "metadata": {
    "ExecuteTime": {
     "end_time": "2021-01-12T20:21:22.937677Z",
     "start_time": "2021-01-12T20:21:22.930679Z"
    }
   },
   "outputs": [],
   "source": [
    "from keras.applications.resnet50 import preprocess_input\n",
    "b_img = preprocess_input(b_img)\n",
    "g_img = preprocess_input(g_img)"
   ]
  },
  {
   "cell_type": "code",
   "execution_count": 68,
   "metadata": {
    "ExecuteTime": {
     "end_time": "2021-01-12T20:21:24.869831Z",
     "start_time": "2021-01-12T20:21:24.209481Z"
    }
   },
   "outputs": [
    {
     "name": "stdout",
     "output_type": "stream",
     "text": [
      "WARNING:tensorflow:6 out of the last 13 calls to <function Model.make_predict_function.<locals>.predict_function at 0x000002434CB75828> triggered tf.function retracing. Tracing is expensive and the excessive number of tracings could be due to (1) creating @tf.function repeatedly in a loop, (2) passing tensors with different shapes, (3) passing Python objects instead of tensors. For (1), please define your @tf.function outside of the loop. For (2), @tf.function has experimental_relax_shapes=True option that relaxes argument shapes that can avoid unnecessary retracing. For (3), please refer to https://www.tensorflow.org/tutorials/customization/performance#python_or_tensor_args and https://www.tensorflow.org/api_docs/python/tf/function for  more details.\n",
      "[[0.5357092  0.46429077]]\n"
     ]
    }
   ],
   "source": [
    "print(model.predict(b_img))"
   ]
  },
  {
   "cell_type": "code",
   "execution_count": 69,
   "metadata": {
    "ExecuteTime": {
     "end_time": "2021-01-12T20:21:36.518622Z",
     "start_time": "2021-01-12T20:21:36.449787Z"
    }
   },
   "outputs": [
    {
     "name": "stdout",
     "output_type": "stream",
     "text": [
      "[[0.4642119  0.53578806]]\n"
     ]
    }
   ],
   "source": [
    "print(model.predict(g_img))"
   ]
  },
  {
   "cell_type": "markdown",
   "metadata": {},
   "source": [
    "**Custom -TM(image)**"
   ]
  },
  {
   "cell_type": "code",
   "execution_count": 70,
   "metadata": {
    "ExecuteTime": {
     "end_time": "2021-01-12T20:21:41.963250Z",
     "start_time": "2021-01-12T20:21:41.945624Z"
    }
   },
   "outputs": [],
   "source": [
    "import tensorflow.keras\n",
    "from PIL import Image, ImageOps\n",
    "import numpy as np"
   ]
  },
  {
   "cell_type": "code",
   "execution_count": 71,
   "metadata": {
    "ExecuteTime": {
     "end_time": "2021-01-12T20:21:46.299291Z",
     "start_time": "2021-01-12T20:21:43.483552Z"
    }
   },
   "outputs": [
    {
     "name": "stdout",
     "output_type": "stream",
     "text": [
      "WARNING:tensorflow:No training configuration found in the save file, so the model was *not* compiled. Compile it manually.\n"
     ]
    }
   ],
   "source": [
    "model = tensorflow.keras.models.load_model(r'E:\\DeepLearning\\Models\\tm_custom_model(image-pairs).h5')"
   ]
  },
  {
   "cell_type": "code",
   "execution_count": 72,
   "metadata": {
    "ExecuteTime": {
     "end_time": "2021-01-12T20:21:47.964736Z",
     "start_time": "2021-01-12T20:21:47.931383Z"
    }
   },
   "outputs": [],
   "source": [
    "np.set_printoptions(suppress=True)\n",
    "model.compile(loss='binary_crossentropy',\n",
    "              optimizer='rmsprop',\n",
    "              metrics=['accuracy'])"
   ]
  },
  {
   "cell_type": "code",
   "execution_count": 73,
   "metadata": {
    "ExecuteTime": {
     "end_time": "2021-01-12T20:21:49.181199Z",
     "start_time": "2021-01-12T20:21:49.170164Z"
    }
   },
   "outputs": [],
   "source": [
    "data = np.ndarray(shape=(1, 224, 224, 3), dtype=np.float32)"
   ]
  },
  {
   "cell_type": "code",
   "execution_count": 74,
   "metadata": {
    "ExecuteTime": {
     "end_time": "2021-01-12T20:22:06.879878Z",
     "start_time": "2021-01-12T20:22:06.867917Z"
    }
   },
   "outputs": [],
   "source": [
    "g_img = Image.open(\"E:\\\\DeepLearning\\\\Custom_data\\\\Wavs\\\\good\\\\Good_Audio (1).jpg\")"
   ]
  },
  {
   "cell_type": "code",
   "execution_count": 75,
   "metadata": {
    "ExecuteTime": {
     "end_time": "2021-01-12T20:22:08.370075Z",
     "start_time": "2021-01-12T20:22:08.356092Z"
    }
   },
   "outputs": [],
   "source": [
    "size = (224, 224)\n",
    "g_img = ImageOps.fit(g_img, size, Image.ANTIALIAS)"
   ]
  },
  {
   "cell_type": "code",
   "execution_count": 76,
   "metadata": {
    "ExecuteTime": {
     "end_time": "2021-01-12T20:22:10.929372Z",
     "start_time": "2021-01-12T20:22:10.147238Z"
    }
   },
   "outputs": [
    {
     "name": "stdout",
     "output_type": "stream",
     "text": [
      "WARNING:tensorflow:6 out of the last 12 calls to <function Model.make_predict_function.<locals>.predict_function at 0x000002434F23CEE8> triggered tf.function retracing. Tracing is expensive and the excessive number of tracings could be due to (1) creating @tf.function repeatedly in a loop, (2) passing tensors with different shapes, (3) passing Python objects instead of tensors. For (1), please define your @tf.function outside of the loop. For (2), @tf.function has experimental_relax_shapes=True option that relaxes argument shapes that can avoid unnecessary retracing. For (3), please refer to https://www.tensorflow.org/tutorials/customization/performance#python_or_tensor_args and https://www.tensorflow.org/api_docs/python/tf/function for  more details.\n"
     ]
    },
    {
     "data": {
      "text/plain": [
       "array([[0.9502941 , 0.04970594]], dtype=float32)"
      ]
     },
     "execution_count": 76,
     "metadata": {},
     "output_type": "execute_result"
    }
   ],
   "source": [
    "image_array = np.asarray(g_img)\n",
    "normalized_image_array = (image_array.astype(np.float32) / 127.0) - 1\n",
    "# Load the image into array\n",
    "data[0] = normalized_image_array\n",
    "prediction = model.predict(data)\n",
    "prediction"
   ]
  },
  {
   "cell_type": "markdown",
   "metadata": {},
   "source": [
    " "
   ]
  },
  {
   "cell_type": "markdown",
   "metadata": {},
   "source": [
    "  "
   ]
  },
  {
   "cell_type": "code",
   "execution_count": 77,
   "metadata": {
    "ExecuteTime": {
     "end_time": "2021-01-12T20:22:42.050291Z",
     "start_time": "2021-01-12T20:22:42.035327Z"
    }
   },
   "outputs": [],
   "source": [
    "b_img = Image.open(\"E:\\\\DeepLearning\\\\Custom_data\\\\Wavs\\\\Bad\\\\bad (1).jpg\")\n",
    "size = (224, 224)\n",
    "b_img = ImageOps.fit(b_img, size, Image.ANTIALIAS)"
   ]
  },
  {
   "cell_type": "code",
   "execution_count": 78,
   "metadata": {
    "ExecuteTime": {
     "end_time": "2021-01-12T20:22:43.234076Z",
     "start_time": "2021-01-12T20:22:43.004792Z"
    }
   },
   "outputs": [
    {
     "data": {
      "text/plain": [
       "array([[0.44903803, 0.550962  ]], dtype=float32)"
      ]
     },
     "execution_count": 78,
     "metadata": {},
     "output_type": "execute_result"
    }
   ],
   "source": [
    "image_array = np.asarray(b_img)\n",
    "normalized_image_array = (image_array.astype(np.float32) / 127.0) - 1\n",
    "# Load the image into array\n",
    "data[0] = normalized_image_array\n",
    "prediction = model.predict(data)\n",
    "prediction"
   ]
  },
  {
   "cell_type": "markdown",
   "metadata": {},
   "source": [
    "**Naive-Model**"
   ]
  },
  {
   "cell_type": "code",
   "execution_count": 79,
   "metadata": {
    "ExecuteTime": {
     "end_time": "2021-01-12T20:23:00.279533Z",
     "start_time": "2021-01-12T20:22:59.825762Z"
    }
   },
   "outputs": [],
   "source": [
    "model = tensorflow.keras.models.load_model(r'E:\\DeepLearning\\Models\\naive.h5')"
   ]
  },
  {
   "cell_type": "code",
   "execution_count": 80,
   "metadata": {
    "ExecuteTime": {
     "end_time": "2021-01-12T20:23:27.901065Z",
     "start_time": "2021-01-12T20:23:27.892065Z"
    }
   },
   "outputs": [],
   "source": [
    "b_img = image.load_img(\"E:\\\\DeepLearning\\\\Custom_data\\\\Wavs\\\\Bad\\\\bad (1).jpg\", target_size=(64, 64))\n",
    "\n",
    "g_img = image.load_img(\"E:\\\\DeepLearning\\\\Custom_data\\\\Wavs\\\\good\\\\Good_Audio (1).jpg\", target_size=(64, 64))"
   ]
  },
  {
   "cell_type": "code",
   "execution_count": 81,
   "metadata": {
    "ExecuteTime": {
     "end_time": "2021-01-12T20:23:29.158431Z",
     "start_time": "2021-01-12T20:23:28.875398Z"
    }
   },
   "outputs": [
    {
     "name": "stdout",
     "output_type": "stream",
     "text": [
      "WARNING:tensorflow:6 out of the last 12 calls to <function Model.make_predict_function.<locals>.predict_function at 0x000002435964C8B8> triggered tf.function retracing. Tracing is expensive and the excessive number of tracings could be due to (1) creating @tf.function repeatedly in a loop, (2) passing tensors with different shapes, (3) passing Python objects instead of tensors. For (1), please define your @tf.function outside of the loop. For (2), @tf.function has experimental_relax_shapes=True option that relaxes argument shapes that can avoid unnecessary retracing. For (3), please refer to https://www.tensorflow.org/tutorials/customization/performance#python_or_tensor_args and https://www.tensorflow.org/api_docs/python/tf/function for  more details.\n"
     ]
    },
    {
     "data": {
      "text/plain": [
       "array([[0.48213777, 0.51786226]], dtype=float32)"
      ]
     },
     "execution_count": 81,
     "metadata": {},
     "output_type": "execute_result"
    }
   ],
   "source": [
    "b_img = image.img_to_array(b_img)\n",
    "b_img = np.expand_dims(b_img, axis=0)\n",
    "prob_score = model.predict(b_img)\n",
    "prob_score"
   ]
  },
  {
   "cell_type": "code",
   "execution_count": 82,
   "metadata": {
    "ExecuteTime": {
     "end_time": "2021-01-12T20:23:33.701029Z",
     "start_time": "2021-01-12T20:23:33.658500Z"
    }
   },
   "outputs": [
    {
     "data": {
      "text/plain": [
       "array([[0.4724474, 0.5275526]], dtype=float32)"
      ]
     },
     "execution_count": 82,
     "metadata": {},
     "output_type": "execute_result"
    }
   ],
   "source": [
    "g_img = image.img_to_array(g_img)\n",
    "g_img = np.expand_dims(g_img, axis=0)\n",
    "prob_score = model.predict(g_img)\n",
    "prob_score"
   ]
  },
  {
   "cell_type": "code",
   "execution_count": null,
   "metadata": {},
   "outputs": [],
   "source": []
  }
 ],
 "metadata": {
  "kernelspec": {
   "display_name": "Python 3",
   "language": "python",
   "name": "python3"
  },
  "language_info": {
   "codemirror_mode": {
    "name": "ipython",
    "version": 3
   },
   "file_extension": ".py",
   "mimetype": "text/x-python",
   "name": "python",
   "nbconvert_exporter": "python",
   "pygments_lexer": "ipython3",
   "version": "3.7.8"
  }
 },
 "nbformat": 4,
 "nbformat_minor": 4
}
