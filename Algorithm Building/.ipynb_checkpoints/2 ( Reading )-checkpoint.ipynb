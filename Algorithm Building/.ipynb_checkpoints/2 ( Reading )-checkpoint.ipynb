{
 "cells": [
  {
   "cell_type": "code",
   "execution_count": 49,
   "metadata": {
    "ExecuteTime": {
     "end_time": "2021-01-18T22:28:03.853240Z",
     "start_time": "2021-01-18T22:28:03.837242Z"
    }
   },
   "outputs": [],
   "source": [
    "#Libraries \n",
    "from keras.models import load_model\n",
    "import tensorflow as tf\n",
    "import matplotlib.pyplot as plt\n",
    "import numpy as np\n",
    "import pandas as pd\n",
    "import tensorflow.keras\n",
    "from PIL import Image, ImageOps\n",
    "from keras.preprocessing import image\n",
    "import warnings\n",
    "import gc\n",
    "\n",
    "warnings.filterwarnings(\"ignore\")"
   ]
  },
  {
   "cell_type": "code",
   "execution_count": 50,
   "metadata": {
    "ExecuteTime": {
     "end_time": "2021-01-18T22:28:03.869329Z",
     "start_time": "2021-01-18T22:28:03.855238Z"
    }
   },
   "outputs": [],
   "source": [
    "img_path = r\"D:\\working repos\\AltRekruit\\Testing\\Final (15jan)\\images\\bad_2.jpg\"\n",
    "scores_1 = {}"
   ]
  },
  {
   "cell_type": "markdown",
   "metadata": {},
   "source": [
    "**Score Calculating**\n",
    "- in functions to run mem load out of scope ( temporary implentation ) "
   ]
  },
  {
   "cell_type": "code",
   "execution_count": 51,
   "metadata": {
    "ExecuteTime": {
     "end_time": "2021-01-18T22:28:04.061411Z",
     "start_time": "2021-01-18T22:28:03.871292Z"
    }
   },
   "outputs": [
    {
     "data": {
      "text/plain": [
       "0"
      ]
     },
     "execution_count": 51,
     "metadata": {},
     "output_type": "execute_result"
    }
   ],
   "source": [
    "def vgg_19(img_path):\n",
    "    global scores\n",
    "    vgg19 = tensorflow.keras.models.load_model(r'D:\\working repos\\AltRekruit-Models\\Models(15jan)\\Models\\vgg19.h5')\n",
    "    \n",
    "    img = image.load_img(img_path, target_size=(224,224))\n",
    "    img = image.img_to_array(img)\n",
    "    img = np.expand_dims(img, axis=0)\n",
    "    \n",
    "    vgg19_score = vgg19.predict(img)\n",
    "    \n",
    "    scores_1['vgg19'] = vgg19_score\n",
    "\n",
    "    \n",
    "def vgg_16(img_path):\n",
    "    global scores\n",
    "    vgg16 = tensorflow.keras.models.load_model(r'D:\\working repos\\AltRekruit-Models\\Models(15jan)\\Models\\vgg16.h5')\n",
    "    \n",
    "    img = image.load_img(img_path, target_size=(224,224))\n",
    "    img = image.img_to_array(img)\n",
    "    img = np.expand_dims(img, axis=0)\n",
    "    \n",
    "    vgg16_score = vgg16.predict(img)\n",
    "    \n",
    "    scores_1['vgg16'] = vgg16_score\n",
    "    \n",
    "\n",
    "def resnet_50(img_path):\n",
    "    global scores\n",
    "    resnet50 = tensorflow.keras.models.load_model(r'D:\\working repos\\AltRekruit-Models\\Models(15jan)\\Models\\res50.h5')\n",
    "    \n",
    "    img = image.load_img(img_path, target_size=(224,224))\n",
    "    img = image.img_to_array(img)\n",
    "    img = np.expand_dims(img, axis=0)\n",
    "    \n",
    "    resnet50_score = resnet50.predict(img)\n",
    "    \n",
    "    scores_1['resnet50'] = resnet50_score\n",
    "    \n",
    "    \n",
    "def naive_model(img_path):\n",
    "    global scores\n",
    "    naive = tensorflow.keras.models.load_model(r'D:\\working repos\\AltRekruit-Models\\Models(15jan)\\Models\\naive.h5')\n",
    "    \n",
    "    img = image.load_img(img_path, target_size=(64, 64))\n",
    "    img = image.img_to_array(img)\n",
    "    img = np.expand_dims(img, axis=0)\n",
    "    \n",
    "    naive_score = naive.predict(img)\n",
    "    \n",
    "    scores_1['naive'] = naive_score\n",
    "    \n",
    "    \n",
    "def tm_model(img_path):\n",
    "    tm = tensorflow.keras.models.load_model(r'D:\\working repos\\AltRekruit-Models\\Models(15jan)\\Models\\tm_custom_model(image-pairs).h5')\n",
    "    \n",
    "    np.set_printoptions(suppress=True)\n",
    "    \n",
    "    tm.compile(loss='binary_crossentropy',\n",
    "                  optimizer='rmsprop',\n",
    "              metrics=['accuracy'])\n",
    "\n",
    "\n",
    "    data = np.ndarray(shape=(1, 224, 224, 3), dtype=np.float32)\n",
    "    img = Image.open(img_path)\n",
    "    size = (224, 224)\n",
    "    img = ImageOps.fit(img, size, Image.ANTIALIAS)\n",
    "    image_array = np.asarray(img)\n",
    "    normalized_image_array = (image_array.astype(np.float32) / 127.0) - 1\n",
    "    data[0] = normalized_image_array\n",
    "\n",
    "    tm_score = tm.predict(data)\n",
    "    \n",
    "    scores_1['tm_custom'] = tm_score\n",
    "    \n",
    "\n",
    "gc.collect()"
   ]
  },
  {
   "cell_type": "code",
   "execution_count": 52,
   "metadata": {
    "ExecuteTime": {
     "end_time": "2021-01-18T22:28:12.258854Z",
     "start_time": "2021-01-18T22:28:04.063293Z"
    }
   },
   "outputs": [
    {
     "name": "stdout",
     "output_type": "stream",
     "text": [
      "WARNING:tensorflow:11 out of the last 11 calls to <function Model.make_predict_function.<locals>.predict_function at 0x000001DAC7C781F8> triggered tf.function retracing. Tracing is expensive and the excessive number of tracings could be due to (1) creating @tf.function repeatedly in a loop, (2) passing tensors with different shapes, (3) passing Python objects instead of tensors. For (1), please define your @tf.function outside of the loop. For (2), @tf.function has experimental_relax_shapes=True option that relaxes argument shapes that can avoid unnecessary retracing. For (3), please refer to https://www.tensorflow.org/tutorials/customization/performance#python_or_tensor_args and https://www.tensorflow.org/api_docs/python/tf/function for  more details.\n",
      "WARNING:tensorflow:11 out of the last 11 calls to <function Model.make_predict_function.<locals>.predict_function at 0x000001DAC7BBF288> triggered tf.function retracing. Tracing is expensive and the excessive number of tracings could be due to (1) creating @tf.function repeatedly in a loop, (2) passing tensors with different shapes, (3) passing Python objects instead of tensors. For (1), please define your @tf.function outside of the loop. For (2), @tf.function has experimental_relax_shapes=True option that relaxes argument shapes that can avoid unnecessary retracing. For (3), please refer to https://www.tensorflow.org/tutorials/customization/performance#python_or_tensor_args and https://www.tensorflow.org/api_docs/python/tf/function for  more details.\n",
      "WARNING:tensorflow:11 out of the last 11 calls to <function Model.make_predict_function.<locals>.predict_function at 0x000001DAC90B2C18> triggered tf.function retracing. Tracing is expensive and the excessive number of tracings could be due to (1) creating @tf.function repeatedly in a loop, (2) passing tensors with different shapes, (3) passing Python objects instead of tensors. For (1), please define your @tf.function outside of the loop. For (2), @tf.function has experimental_relax_shapes=True option that relaxes argument shapes that can avoid unnecessary retracing. For (3), please refer to https://www.tensorflow.org/tutorials/customization/performance#python_or_tensor_args and https://www.tensorflow.org/api_docs/python/tf/function for  more details.\n",
      "WARNING:tensorflow:11 out of the last 11 calls to <function Model.make_predict_function.<locals>.predict_function at 0x000001DAC9190D38> triggered tf.function retracing. Tracing is expensive and the excessive number of tracings could be due to (1) creating @tf.function repeatedly in a loop, (2) passing tensors with different shapes, (3) passing Python objects instead of tensors. For (1), please define your @tf.function outside of the loop. For (2), @tf.function has experimental_relax_shapes=True option that relaxes argument shapes that can avoid unnecessary retracing. For (3), please refer to https://www.tensorflow.org/tutorials/customization/performance#python_or_tensor_args and https://www.tensorflow.org/api_docs/python/tf/function for  more details.\n",
      "WARNING:tensorflow:No training configuration found in the save file, so the model was *not* compiled. Compile it manually.\n",
      "WARNING:tensorflow:11 out of the last 11 calls to <function Model.make_predict_function.<locals>.predict_function at 0x000001DAC90A89D8> triggered tf.function retracing. Tracing is expensive and the excessive number of tracings could be due to (1) creating @tf.function repeatedly in a loop, (2) passing tensors with different shapes, (3) passing Python objects instead of tensors. For (1), please define your @tf.function outside of the loop. For (2), @tf.function has experimental_relax_shapes=True option that relaxes argument shapes that can avoid unnecessary retracing. For (3), please refer to https://www.tensorflow.org/tutorials/customization/performance#python_or_tensor_args and https://www.tensorflow.org/api_docs/python/tf/function for  more details.\n"
     ]
    },
    {
     "data": {
      "text/plain": [
       "1499"
      ]
     },
     "execution_count": 52,
     "metadata": {},
     "output_type": "execute_result"
    }
   ],
   "source": [
    "vgg_19(img_path) ; gc.collect()\n",
    "vgg_16(img_path) ; gc.collect()\n",
    "resnet_50(img_path) ; gc.collect()\n",
    "naive_model(img_path) ; gc.collect()\n",
    "tm_model(img_path) ; gc.collect()"
   ]
  },
  {
   "cell_type": "code",
   "execution_count": 53,
   "metadata": {
    "ExecuteTime": {
     "end_time": "2021-01-18T22:28:12.274854Z",
     "start_time": "2021-01-18T22:28:12.259854Z"
    }
   },
   "outputs": [
    {
     "data": {
      "text/plain": [
       "{'vgg19': array([[0.6938795, 0.3061205]], dtype=float32),\n",
       " 'vgg16': array([[0.02640011, 0.9735999 ]], dtype=float32),\n",
       " 'resnet50': array([[0.00370068, 0.9962993 ]], dtype=float32),\n",
       " 'naive': array([[0.4993602, 0.5006398]], dtype=float32),\n",
       " 'tm_custom': array([[0.00790193, 0.9920981 ]], dtype=float32)}"
      ]
     },
     "execution_count": 53,
     "metadata": {},
     "output_type": "execute_result"
    }
   ],
   "source": [
    "scores_1"
   ]
  },
  {
   "cell_type": "code",
   "execution_count": 54,
   "metadata": {
    "ExecuteTime": {
     "end_time": "2021-01-18T22:28:12.290888Z",
     "start_time": "2021-01-18T22:28:12.276857Z"
    }
   },
   "outputs": [
    {
     "data": {
      "text/plain": [
       "dict_keys(['vgg19', 'vgg16', 'resnet50', 'naive', 'tm_custom'])"
      ]
     },
     "execution_count": 54,
     "metadata": {},
     "output_type": "execute_result"
    }
   ],
   "source": [
    "scores_1.keys()"
   ]
  },
  {
   "cell_type": "code",
   "execution_count": 55,
   "metadata": {
    "ExecuteTime": {
     "end_time": "2021-01-18T22:28:12.497991Z",
     "start_time": "2021-01-18T22:28:12.291853Z"
    }
   },
   "outputs": [
    {
     "data": {
      "text/plain": [
       "60"
      ]
     },
     "execution_count": 55,
     "metadata": {},
     "output_type": "execute_result"
    }
   ],
   "source": [
    "val_ = []\n",
    "# 0 , 1 ,2 Where 2 means equal scores\n",
    "for key in scores_1.keys():\n",
    "    if scores_1[key][0][0]>scores_1[key][0][1]:\n",
    "        val_.append(0)\n",
    "    elif scores_1[key][0][0]<scores_1[key][0][1]:\n",
    "        val_.append(1)\n",
    "    else:\n",
    "        val_append(2)\n",
    "gc.collect()"
   ]
  },
  {
   "cell_type": "code",
   "execution_count": 56,
   "metadata": {
    "ExecuteTime": {
     "end_time": "2021-01-18T22:28:12.705852Z",
     "start_time": "2021-01-18T22:28:12.501854Z"
    }
   },
   "outputs": [],
   "source": [
    "score_1_avg = 0\n",
    "iter_ = 0 \n",
    "for key in scores_1.keys():\n",
    "    act_val = val_[iter_]\n",
    "    score_1_avg = score_1_avg +  scores_1[key][0][act_val]\n",
    "gc.collect()\n",
    "score_1_final = (score_1_avg/5)*100"
   ]
  },
  {
   "cell_type": "markdown",
   "metadata": {
    "ExecuteTime": {
     "end_time": "2021-01-18T21:36:43.338435Z",
     "start_time": "2021-01-18T21:36:43.024258Z"
    }
   },
   "source": [
    " "
   ]
  },
  {
   "cell_type": "markdown",
   "metadata": {},
   "source": [
    " "
   ]
  },
  {
   "cell_type": "markdown",
   "metadata": {},
   "source": [
    " "
   ]
  },
  {
   "cell_type": "markdown",
   "metadata": {},
   "source": [
    "# Second Implementation"
   ]
  },
  {
   "cell_type": "code",
   "execution_count": 57,
   "metadata": {
    "ExecuteTime": {
     "end_time": "2021-01-18T22:28:12.910991Z",
     "start_time": "2021-01-18T22:28:12.707855Z"
    }
   },
   "outputs": [
    {
     "data": {
      "text/plain": [
       "20"
      ]
     },
     "execution_count": 57,
     "metadata": {},
     "output_type": "execute_result"
    }
   ],
   "source": [
    "def class_finder(vgg_19,naive,btg_res,btb_vgg16,tm):\n",
    "    if vgg_19[0]>vgg_19[1]:\n",
    "        vgg19_cls = 0\n",
    "    else:\n",
    "        vgg19_cls = 1\n",
    "        \n",
    "        \n",
    "    if naive[0]>naive[1]:\n",
    "        naive_cls = 0\n",
    "    else:\n",
    "        naive_cls = 1\n",
    "    \n",
    "    if vgg19_cls == naive_cls:\n",
    "        \n",
    "        if vgg19_cls == 0:\n",
    "            add_on = btb_vgg16\n",
    "        else:\n",
    "            add_on = btg_res\n",
    "        return(vgg_19[vgg19_cls]+naive[vgg19_cls]+add_on[vgg19_cls])/3\n",
    "    \n",
    "    else:\n",
    "        if tm[0]>tm[1]:\n",
    "            tm_cls = 0\n",
    "            add_on = btb_vgg16\n",
    "        else:\n",
    "            tm_cls = 1\n",
    "            add_on = btg_res\n",
    "            \n",
    "        return(tm[tm_cls]+add_on[tm_cls])/2\n",
    "        \n",
    "        \n",
    "gc.collect()        "
   ]
  },
  {
   "cell_type": "markdown",
   "metadata": {},
   "source": [
    "- To implement : Probablity for the below and better calculating system "
   ]
  },
  {
   "cell_type": "code",
   "execution_count": 58,
   "metadata": {
    "ExecuteTime": {
     "end_time": "2021-01-18T22:28:13.116856Z",
     "start_time": "2021-01-18T22:28:12.912853Z"
    }
   },
   "outputs": [
    {
     "data": {
      "text/plain": [
       "20"
      ]
     },
     "execution_count": 58,
     "metadata": {},
     "output_type": "execute_result"
    }
   ],
   "source": [
    "score_2_final = class_finder(scores_1['vgg19'][0],scores_1['resnet50'][0],scores_1['tm_custom'][0],scores_1['vgg16'][0],scores_1['naive'][0])*100\n",
    "gc.collect()"
   ]
  },
  {
   "cell_type": "code",
   "execution_count": 59,
   "metadata": {
    "ExecuteTime": {
     "end_time": "2021-01-18T22:28:13.132854Z",
     "start_time": "2021-01-18T22:28:13.118857Z"
    }
   },
   "outputs": [],
   "source": [
    "final_score = (score_1_final + score_2_final)/2"
   ]
  },
  {
   "cell_type": "code",
   "execution_count": 60,
   "metadata": {
    "ExecuteTime": {
     "end_time": "2021-01-18T22:28:13.148896Z",
     "start_time": "2021-01-18T22:28:13.133854Z"
    }
   },
   "outputs": [
    {
     "data": {
      "text/plain": [
       "49.63087135460228"
      ]
     },
     "execution_count": 60,
     "metadata": {},
     "output_type": "execute_result"
    }
   ],
   "source": [
    "final_score"
   ]
  },
  {
   "cell_type": "code",
   "execution_count": null,
   "metadata": {},
   "outputs": [],
   "source": []
  }
 ],
 "metadata": {
  "kernelspec": {
   "display_name": "Python 3",
   "language": "python",
   "name": "python3"
  },
  "language_info": {
   "codemirror_mode": {
    "name": "ipython",
    "version": 3
   },
   "file_extension": ".py",
   "mimetype": "text/x-python",
   "name": "python",
   "nbconvert_exporter": "python",
   "pygments_lexer": "ipython3",
   "version": "3.7.8"
  }
 },
 "nbformat": 4,
 "nbformat_minor": 4
}
