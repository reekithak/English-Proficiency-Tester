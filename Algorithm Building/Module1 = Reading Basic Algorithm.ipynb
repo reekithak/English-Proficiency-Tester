{
 "cells": [
  {
   "cell_type": "markdown",
   "metadata": {},
   "source": [
    "# Algorithm Implementation"
   ]
  },
  {
   "cell_type": "markdown",
   "metadata": {
    "ExecuteTime": {
     "end_time": "2021-01-15T18:58:06.410725Z",
     "start_time": "2021-01-15T18:58:06.394724Z"
    }
   },
   "source": [
    " "
   ]
  },
  {
   "cell_type": "code",
   "execution_count": 1,
   "metadata": {
    "ExecuteTime": {
     "end_time": "2021-01-17T18:47:24.617207Z",
     "start_time": "2021-01-17T18:47:18.906354Z"
    }
   },
   "outputs": [],
   "source": [
    "#Libraries \n",
    "from keras.models import load_model\n",
    "import tensorflow as tf\n",
    "import matplotlib.pyplot as plt\n",
    "import numpy as np\n",
    "import pandas as pd\n",
    "import tensorflow.keras\n",
    "from PIL import Image, ImageOps\n",
    "from keras.preprocessing import image\n",
    "import warnings\n",
    "warnings.filterwarnings(\"ignore\")"
   ]
  },
  {
   "cell_type": "code",
   "execution_count": 2,
   "metadata": {
    "ExecuteTime": {
     "end_time": "2021-01-17T18:47:24.632210Z",
     "start_time": "2021-01-17T18:47:24.619208Z"
    }
   },
   "outputs": [],
   "source": [
    "def base_models():\n",
    "    vgg19 = tensorflow.keras.models.load_model(r'D:\\working repos\\AltRekruit-Models\\Models(15jan)\\Models\\vgg19.h5')\n",
    "    naive = tensorflow.keras.models.load_model(r'D:\\working repos\\AltRekruit-Models\\Models(15jan)\\Models\\naive.h5')\n",
    "    return vgg19,naive"
   ]
  },
  {
   "cell_type": "code",
   "execution_count": 3,
   "metadata": {
    "ExecuteTime": {
     "end_time": "2021-01-17T18:47:24.664208Z",
     "start_time": "2021-01-17T18:47:24.637210Z"
    }
   },
   "outputs": [],
   "source": [
    "#Model Value Analyser\n",
    "def analyse(img_path):\n",
    "    vgg19,naive = base_models()\n",
    "    \n",
    "    img = image.load_img(img_path, target_size=(224,224))\n",
    "    img = image.img_to_array(img)\n",
    "    img = np.expand_dims(img, axis=0)\n",
    "    \n",
    "    vgg19_score = vgg19.predict(img)\n",
    "    \n",
    "    img = image.load_img(img_path, target_size=(64, 64))\n",
    "    img = image.img_to_array(img)\n",
    "    img = np.expand_dims(img, axis=0)\n",
    "    \n",
    "    naive_score = naive.predict(img)\n",
    "    \n",
    "    return [vgg19_score,naive_score]"
   ]
  },
  {
   "cell_type": "code",
   "execution_count": 4,
   "metadata": {
    "ExecuteTime": {
     "end_time": "2021-01-17T18:47:24.680208Z",
     "start_time": "2021-01-17T18:47:24.668211Z"
    }
   },
   "outputs": [],
   "source": [
    "def class_calculator(score_list):\n",
    "    if score_list[0][0][0] > score_list[0][0][1]:\n",
    "        vgg19_op = 0\n",
    "    else:\n",
    "        vgg19_op = 1\n",
    "        \n",
    "    if score_list[1][0][0] > score_list[1][0][1]:\n",
    "        naive_op = 0\n",
    "    else:\n",
    "        naive_op = 1\n",
    "        \n",
    "    if vgg19_op == naive_op:\n",
    "        return [vgg19_op,score_list] #further calculation\n",
    "    else:\n",
    "        return [5,score_list]"
   ]
  },
  {
   "cell_type": "code",
   "execution_count": 5,
   "metadata": {
    "ExecuteTime": {
     "end_time": "2021-01-17T18:47:24.711205Z",
     "start_time": "2021-01-17T18:47:24.683210Z"
    }
   },
   "outputs": [],
   "source": [
    "def second_eval(pred_class,img_path,score_list):\n",
    "    img = image.load_img(img_path, target_size=(224,224))\n",
    "    img = image.img_to_array(img)\n",
    "    img = np.expand_dims(img, axis=0)\n",
    "    if pred_class == 0:\n",
    "        vgg16 = tensorflow.keras.models.load_model(r'D:\\working repos\\AltRekruit-Models\\Models(15jan)\\Models\\vgg16.h5')\n",
    "        vgg16_score = vgg16.predict(img)\n",
    "        final_score = (score_list[0][0][0]+score_list[1][0][0]+vgg16_score[0][0])/3\n",
    "        return final_score\n",
    "    elif pred_class == 1 :\n",
    "        resnet50 = tensorflow.keras.models.load_model(r'D:\\working repos\\AltRekruit-Models\\Models(15jan)\\Models\\res50.h5')\n",
    "        resnet50_score = resnet50.predict(img)\n",
    "        final_score = (score_list[0][0][1]+score_list[1][0][1]+resnet50_score[0][1])/3\n",
    "        return final_score\n",
    "    else :\n",
    "        tm = tensorflow.keras.models.load_model(r'D:\\working repos\\AltRekruit-Models\\Models(15jan)\\Models\\tm_custom_model(image-pairs).h5')\n",
    "        np.set_printoptions(suppress=True)\n",
    "        tm.compile(loss='binary_crossentropy',\n",
    "                      optimizer='rmsprop',\n",
    "                  metrics=['accuracy'])\n",
    "        data = np.ndarray(shape=(1, 224, 224, 3), dtype=np.float32)\n",
    "        img = Image.open(img_path)\n",
    "        size = (224, 224)\n",
    "        img = ImageOps.fit(img, size, Image.ANTIALIAS)\n",
    "        image_array = np.asarray(img)\n",
    "        normalized_image_array = (image_array.astype(np.float32) / 127.0) - 1\n",
    "        data[0] = normalized_image_array\n",
    "    \n",
    "        tm_score = tm.predict(data)\n",
    "        \n",
    "        if tm_score[0][0] > tm_score[0][1]:\n",
    "            final_score = (score_list[0][0][0]+score_list[1][0][0]+tm_score[0][0])/3\n",
    "            return final_score\n",
    "        else:\n",
    "            final_score = (score_list[0][0][1]+score_list[1][0][1]+tm_score[0][1])/3\n",
    "            return final_score"
   ]
  },
  {
   "cell_type": "code",
   "execution_count": 6,
   "metadata": {
    "ExecuteTime": {
     "end_time": "2021-01-17T18:47:30.689573Z",
     "start_time": "2021-01-17T18:47:25.838878Z"
    }
   },
   "outputs": [],
   "source": [
    "img_path = r\"D:\\working repos\\AltRekruit\\Testing\\Final (15jan)\\images\\bad_2.jpg\"\n",
    "score_list = analyse(img_path)"
   ]
  },
  {
   "cell_type": "code",
   "execution_count": 7,
   "metadata": {
    "ExecuteTime": {
     "end_time": "2021-01-17T18:47:30.705506Z",
     "start_time": "2021-01-17T18:47:30.692510Z"
    }
   },
   "outputs": [],
   "source": [
    "pred_class , score_list = class_calculator(score_list)"
   ]
  },
  {
   "cell_type": "code",
   "execution_count": 8,
   "metadata": {
    "ExecuteTime": {
     "end_time": "2021-01-17T18:47:35.387912Z",
     "start_time": "2021-01-17T18:47:30.708528Z"
    }
   },
   "outputs": [
    {
     "name": "stdout",
     "output_type": "stream",
     "text": [
      "WARNING:tensorflow:No training configuration found in the save file, so the model was *not* compiled. Compile it manually.\n"
     ]
    }
   ],
   "source": [
    "final_score = second_eval(pred_class,img_path,score_list)"
   ]
  },
  {
   "cell_type": "code",
   "execution_count": 9,
   "metadata": {
    "ExecuteTime": {
     "end_time": "2021-01-17T18:47:35.403916Z",
     "start_time": "2021-01-17T18:47:35.389915Z"
    }
   },
   "outputs": [
    {
     "data": {
      "text/plain": [
       "0.599619468053182"
      ]
     },
     "execution_count": 9,
     "metadata": {},
     "output_type": "execute_result"
    }
   ],
   "source": [
    "final_score"
   ]
  },
  {
   "cell_type": "markdown",
   "metadata": {},
   "source": [
    "Model_Files = http://bit.ly/alt_rekruit_models"
   ]
  },
  {
   "cell_type": "code",
   "execution_count": null,
   "metadata": {},
   "outputs": [],
   "source": []
  }
 ],
 "metadata": {
  "kernelspec": {
   "display_name": "Python 3",
   "language": "python",
   "name": "python3"
  },
  "language_info": {
   "codemirror_mode": {
    "name": "ipython",
    "version": 3
   },
   "file_extension": ".py",
   "mimetype": "text/x-python",
   "name": "python",
   "nbconvert_exporter": "python",
   "pygments_lexer": "ipython3",
   "version": "3.7.8"
  }
 },
 "nbformat": 4,
 "nbformat_minor": 4
}
