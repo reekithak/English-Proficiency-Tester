{
 "cells": [
  {
   "cell_type": "markdown",
   "metadata": {},
   "source": [
    "**Simple Jaccard Similarity**\n",
    "- intersection /union ( worst )"
   ]
  },
  {
   "cell_type": "code",
   "execution_count": 295,
   "metadata": {
    "ExecuteTime": {
     "end_time": "2021-01-29T19:40:41.016255Z",
     "start_time": "2021-01-29T19:40:41.008252Z"
    }
   },
   "outputs": [],
   "source": [
    "import random\n",
    "import string"
   ]
  },
  {
   "cell_type": "code",
   "execution_count": 296,
   "metadata": {
    "ExecuteTime": {
     "end_time": "2021-01-29T19:40:41.254250Z",
     "start_time": "2021-01-29T19:40:41.239288Z"
    }
   },
   "outputs": [],
   "source": [
    "sent_1 = \"Nowadays, there is a huge amount of data that can be categorized as sequential. It is present in the form of audio, video, text, time series, sensor data, etc. A special thing about this type of data is that if two events are occurring in a particular time frame, the occurrence of event A before event B is an entirely different scenario as compared to the occurrence of event A after event B.\".lower().split(\" \")\n",
    "sent_2 = \"Text, a stream of characters lined up one after another, is a difficult thing to crack. This is because when handling text, a model may be trained to make very accurate predictions using the sequences that have occurred previously, but one wrong prediction has the potential to make the entire sentence meaningless. However, in case of a numerical sequence prediction problem, even if a prediction goes entirely south, it could still be considered a valid prediction (maybe with a high bias). But, it would not strike the eye.\".lower().split(\" \")"
   ]
  },
  {
   "cell_type": "code",
   "execution_count": 297,
   "metadata": {
    "ExecuteTime": {
     "end_time": "2021-01-29T19:40:41.446252Z",
     "start_time": "2021-01-29T19:40:41.440251Z"
    }
   },
   "outputs": [],
   "source": [
    "score_2_pos = 0\n",
    "score_2_neg = 0 "
   ]
  },
  {
   "cell_type": "code",
   "execution_count": 298,
   "metadata": {
    "ExecuteTime": {
     "end_time": "2021-01-29T19:40:41.651253Z",
     "start_time": "2021-01-29T19:40:41.632250Z"
    }
   },
   "outputs": [],
   "source": [
    "def jaccard_sim(generated_text,input_text):\n",
    "    intersection = set(generated_text).intersection(set(input_text))\n",
    "    union = set(generated_text).union(set(input_text))\n",
    "    return len(intersection)/len(union)"
   ]
  },
  {
   "cell_type": "code",
   "execution_count": 299,
   "metadata": {
    "ExecuteTime": {
     "end_time": "2021-01-29T19:40:41.854455Z",
     "start_time": "2021-01-29T19:40:41.840397Z"
    }
   },
   "outputs": [],
   "source": [
    "def direct_comp(A,B):\n",
    "    global score_2_pos,score_2_neg\n",
    "    for x , y in zip(A,B):\n",
    "        if x == y:\n",
    "            score_2_pos+=1\n",
    "        else:\n",
    "            pass"
   ]
  },
  {
   "cell_type": "code",
   "execution_count": 300,
   "metadata": {
    "ExecuteTime": {
     "end_time": "2021-01-29T19:40:42.041456Z",
     "start_time": "2021-01-29T19:40:42.024455Z"
    }
   },
   "outputs": [],
   "source": [
    "#score1 (15%) , score2 (85%)\n",
    "def final_score(score_1,score_2):\n",
    "    final_score = score_1*.15 + score_2*.85\n",
    "    return final_score"
   ]
  },
  {
   "cell_type": "code",
   "execution_count": 301,
   "metadata": {
    "ExecuteTime": {
     "end_time": "2021-01-29T19:40:42.232454Z",
     "start_time": "2021-01-29T19:40:42.215454Z"
    }
   },
   "outputs": [],
   "source": [
    "def comparisor(generated_text , input_text):\n",
    "    global score_2_pos,score_2_neg\n",
    "    if len(sent_1)==len(sent_2):\n",
    "        direct_comp(sent_1,sent_2)\n",
    "\n",
    "    elif len(sent_1)>len(sent_2):\n",
    "        count_ = len(sent_1)-len(sent_2)\n",
    "        for iter_ in range(count_):\n",
    "            letters = string.ascii_lowercase\n",
    "            sent_2.append(letters)\n",
    "            score_2_neg +=-0.25\n",
    "        direct_comp(sent_1,sent_2)\n",
    "    else:\n",
    "        count_ = len(sent_2)-len(sent_1)\n",
    "        for iter_ in range(count_):\n",
    "            sent_2.pop(-1)\n",
    "            score_2_neg +=-0.25\n",
    "\n",
    "        direct_comp(sent_1,sent_2)"
   ]
  },
  {
   "cell_type": "code",
   "execution_count": 302,
   "metadata": {
    "ExecuteTime": {
     "end_time": "2021-01-29T19:40:42.407455Z",
     "start_time": "2021-01-29T19:40:42.398454Z"
    }
   },
   "outputs": [],
   "source": [
    "comparisor(sent_1,sent_2)"
   ]
  },
  {
   "cell_type": "code",
   "execution_count": 303,
   "metadata": {
    "ExecuteTime": {
     "end_time": "2021-01-29T19:40:42.612497Z",
     "start_time": "2021-01-29T19:40:42.600498Z"
    }
   },
   "outputs": [
    {
     "name": "stdout",
     "output_type": "stream",
     "text": [
      "Positive Score: 0 , Negative Score: -3.75\n"
     ]
    }
   ],
   "source": [
    "print(\"Positive Score:\",score_2_pos,\", Negative Score:\",score_2_neg)"
   ]
  },
  {
   "cell_type": "code",
   "execution_count": 304,
   "metadata": {
    "ExecuteTime": {
     "end_time": "2021-01-29T19:40:42.783496Z",
     "start_time": "2021-01-29T19:40:42.775497Z"
    }
   },
   "outputs": [],
   "source": [
    "score_2 = ((score_2_pos+score_2_neg)/len(sent_1))*10"
   ]
  },
  {
   "cell_type": "code",
   "execution_count": 305,
   "metadata": {
    "ExecuteTime": {
     "end_time": "2021-01-29T19:40:42.956501Z",
     "start_time": "2021-01-29T19:40:42.942497Z"
    }
   },
   "outputs": [],
   "source": [
    "score_1 = jaccard_sim(sent_1,sent_2)"
   ]
  },
  {
   "cell_type": "code",
   "execution_count": 307,
   "metadata": {
    "ExecuteTime": {
     "end_time": "2021-01-29T19:41:59.150531Z",
     "start_time": "2021-01-29T19:41:59.128532Z"
    }
   },
   "outputs": [
    {
     "data": {
      "text/plain": [
       "(0.16129032258064516, -0.5136986301369862)"
      ]
     },
     "execution_count": 307,
     "metadata": {},
     "output_type": "execute_result"
    }
   ],
   "source": [
    "score_1,score_2"
   ]
  },
  {
   "cell_type": "code",
   "execution_count": 306,
   "metadata": {
    "ExecuteTime": {
     "end_time": "2021-01-29T19:40:43.131502Z",
     "start_time": "2021-01-29T19:40:43.119504Z"
    }
   },
   "outputs": [
    {
     "name": "stdout",
     "output_type": "stream",
     "text": [
      "Final Score on 10 = -0.4124502872293415\n"
     ]
    }
   ],
   "source": [
    "print(\"Final Score on 10 =\",final_score(score_1,score_2))"
   ]
  },
  {
   "cell_type": "code",
   "execution_count": null,
   "metadata": {},
   "outputs": [],
   "source": []
  }
 ],
 "metadata": {
  "kernelspec": {
   "display_name": "Python 3",
   "language": "python",
   "name": "python3"
  },
  "language_info": {
   "codemirror_mode": {
    "name": "ipython",
    "version": 3
   },
   "file_extension": ".py",
   "mimetype": "text/x-python",
   "name": "python",
   "nbconvert_exporter": "python",
   "pygments_lexer": "ipython3",
   "version": "3.7.8"
  }
 },
 "nbformat": 4,
 "nbformat_minor": 4
}
