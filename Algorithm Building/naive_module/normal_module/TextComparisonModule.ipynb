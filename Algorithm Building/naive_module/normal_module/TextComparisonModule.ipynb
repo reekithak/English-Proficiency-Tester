{
 "cells": [
  {
   "cell_type": "markdown",
   "metadata": {},
   "source": [
    "**Simple Jaccard Similarity**\n",
    "- intersection /union ( worst )"
   ]
  },
  {
   "cell_type": "code",
   "execution_count": 1,
   "metadata": {
    "ExecuteTime": {
     "end_time": "2021-01-31T09:45:13.909294Z",
     "start_time": "2021-01-31T09:45:13.892228Z"
    }
   },
   "outputs": [],
   "source": [
    "import random\n",
    "import string"
   ]
  },
  {
   "cell_type": "code",
   "execution_count": 2,
   "metadata": {
    "ExecuteTime": {
     "end_time": "2021-01-31T09:45:14.204120Z",
     "start_time": "2021-01-31T09:45:14.202094Z"
    }
   },
   "outputs": [],
   "source": [
    "#Jaccard out of 1 , comparisor out of "
   ]
  },
  {
   "cell_type": "code",
   "execution_count": 18,
   "metadata": {
    "ExecuteTime": {
     "end_time": "2021-01-31T09:46:23.639464Z",
     "start_time": "2021-01-31T09:46:23.625491Z"
    }
   },
   "outputs": [],
   "source": [
    "sent_1 =  \"Akhil Sanker is a good boy\".lower().split(\" \")\n",
    "sent_2 = \"Akhil Sanker is a good boy and he loves his gadjets\".lower().split(\" \")"
   ]
  },
  {
   "cell_type": "code",
   "execution_count": 19,
   "metadata": {
    "ExecuteTime": {
     "end_time": "2021-01-31T09:46:26.618568Z",
     "start_time": "2021-01-31T09:46:26.610567Z"
    }
   },
   "outputs": [],
   "source": [
    "score_2_pos = 0\n",
    "score_2_neg = 0 "
   ]
  },
  {
   "cell_type": "code",
   "execution_count": 20,
   "metadata": {
    "ExecuteTime": {
     "end_time": "2021-01-31T09:46:26.914178Z",
     "start_time": "2021-01-31T09:46:26.906177Z"
    }
   },
   "outputs": [],
   "source": [
    "def jaccard_sim(generated_text,input_text):\n",
    "    intersection = set(generated_text).intersection(set(input_text))\n",
    "    union = set(generated_text).union(set(input_text))\n",
    "    return len(intersection)/len(union)"
   ]
  },
  {
   "cell_type": "code",
   "execution_count": 21,
   "metadata": {
    "ExecuteTime": {
     "end_time": "2021-01-31T09:46:27.269143Z",
     "start_time": "2021-01-31T09:46:27.258170Z"
    }
   },
   "outputs": [
    {
     "data": {
      "text/plain": [
       "(['akhil', 'sanker', 'is', 'a', 'good', 'boy'],\n",
       " ['akhil',\n",
       "  'sanker',\n",
       "  'is',\n",
       "  'a',\n",
       "  'good',\n",
       "  'boy',\n",
       "  'and',\n",
       "  'he',\n",
       "  'loves',\n",
       "  'his',\n",
       "  'gadjets'])"
      ]
     },
     "execution_count": 21,
     "metadata": {},
     "output_type": "execute_result"
    }
   ],
   "source": [
    "sent_1 , sent_2"
   ]
  },
  {
   "cell_type": "code",
   "execution_count": 22,
   "metadata": {
    "ExecuteTime": {
     "end_time": "2021-01-31T09:46:27.688924Z",
     "start_time": "2021-01-31T09:46:27.682925Z"
    }
   },
   "outputs": [
    {
     "data": {
      "text/plain": [
       "0.5454545454545454"
      ]
     },
     "execution_count": 22,
     "metadata": {},
     "output_type": "execute_result"
    }
   ],
   "source": [
    "jaccard_sim(sent_1,sent_2)"
   ]
  },
  {
   "cell_type": "code",
   "execution_count": 23,
   "metadata": {
    "ExecuteTime": {
     "end_time": "2021-01-31T09:46:28.091043Z",
     "start_time": "2021-01-31T09:46:28.082040Z"
    }
   },
   "outputs": [],
   "source": [
    "def direct_comp(A,B):\n",
    "    global score_2_pos,score_2_neg\n",
    "    for x , y in zip(A,B):\n",
    "        if x == y:\n",
    "            score_2_pos+=1\n",
    "        else:\n",
    "            pass"
   ]
  },
  {
   "cell_type": "code",
   "execution_count": 24,
   "metadata": {
    "ExecuteTime": {
     "end_time": "2021-01-31T09:46:28.514325Z",
     "start_time": "2021-01-31T09:46:28.499294Z"
    }
   },
   "outputs": [],
   "source": [
    "#score1 (15%) , score2 (85%)\n",
    "def final_score(score_1,score_2):\n",
    "    final_score = score_1*.15 + score_2*.85\n",
    "    return final_score"
   ]
  },
  {
   "cell_type": "code",
   "execution_count": 25,
   "metadata": {
    "ExecuteTime": {
     "end_time": "2021-01-31T09:46:28.919552Z",
     "start_time": "2021-01-31T09:46:28.907516Z"
    }
   },
   "outputs": [],
   "source": [
    "def comparisor(generated_text , input_text):\n",
    "    global score_2_pos,score_2_neg\n",
    "    if len(sent_1)==len(sent_2):\n",
    "        direct_comp(sent_1,sent_2)\n",
    "        print(\"length same\")\n",
    "\n",
    "    elif len(sent_1)>len(sent_2):\n",
    "        count_ = len(sent_1)-len(sent_2)\n",
    "        for iter_ in range(count_):\n",
    "            letters = string.ascii_lowercase\n",
    "            sent_2.append(letters)\n",
    "            score_2_neg +=-0.25\n",
    "        direct_comp(sent_1,sent_2)\n",
    "        print(\"In elif\")\n",
    "    else:\n",
    "        count_ = len(sent_2)-len(sent_1)\n",
    "        for iter_ in range(count_):\n",
    "            sent_2.pop(-1)\n",
    "            score_2_neg +=-0.25\n",
    "\n",
    "        direct_comp(sent_1,sent_2)\n",
    "        print(\"In else\")"
   ]
  },
  {
   "cell_type": "code",
   "execution_count": 26,
   "metadata": {
    "ExecuteTime": {
     "end_time": "2021-01-31T09:46:29.371664Z",
     "start_time": "2021-01-31T09:46:29.354665Z"
    }
   },
   "outputs": [
    {
     "name": "stdout",
     "output_type": "stream",
     "text": [
      "In else\n"
     ]
    }
   ],
   "source": [
    "comparisor(sent_1,sent_2)"
   ]
  },
  {
   "cell_type": "code",
   "execution_count": 27,
   "metadata": {
    "ExecuteTime": {
     "end_time": "2021-01-31T09:46:29.700926Z",
     "start_time": "2021-01-31T09:46:29.690926Z"
    }
   },
   "outputs": [
    {
     "name": "stdout",
     "output_type": "stream",
     "text": [
      "Positive Score: 6 , Negative Score: -1.25\n"
     ]
    }
   ],
   "source": [
    "print(\"Positive Score:\",score_2_pos,\", Negative Score:\",score_2_neg)"
   ]
  },
  {
   "cell_type": "code",
   "execution_count": 28,
   "metadata": {
    "ExecuteTime": {
     "end_time": "2021-01-31T09:46:30.827999Z",
     "start_time": "2021-01-31T09:46:30.819037Z"
    }
   },
   "outputs": [],
   "source": [
    "score_2 = ((score_2_pos+score_2_neg)/len(sent_1))*10"
   ]
  },
  {
   "cell_type": "code",
   "execution_count": 29,
   "metadata": {
    "ExecuteTime": {
     "end_time": "2021-01-31T09:46:31.263860Z",
     "start_time": "2021-01-31T09:46:31.243859Z"
    }
   },
   "outputs": [
    {
     "data": {
      "text/plain": [
       "7.916666666666666"
      ]
     },
     "execution_count": 29,
     "metadata": {},
     "output_type": "execute_result"
    }
   ],
   "source": [
    "score_2"
   ]
  },
  {
   "cell_type": "code",
   "execution_count": 30,
   "metadata": {
    "ExecuteTime": {
     "end_time": "2021-01-31T09:46:31.790674Z",
     "start_time": "2021-01-31T09:46:31.785673Z"
    }
   },
   "outputs": [],
   "source": [
    "score_1 = jaccard_sim(sent_1,sent_2)*10"
   ]
  },
  {
   "cell_type": "code",
   "execution_count": 31,
   "metadata": {
    "ExecuteTime": {
     "end_time": "2021-01-31T09:46:32.352690Z",
     "start_time": "2021-01-31T09:46:32.345689Z"
    }
   },
   "outputs": [
    {
     "data": {
      "text/plain": [
       "(10.0, 7.916666666666666)"
      ]
     },
     "execution_count": 31,
     "metadata": {},
     "output_type": "execute_result"
    }
   ],
   "source": [
    "score_1,score_2"
   ]
  },
  {
   "cell_type": "code",
   "execution_count": 32,
   "metadata": {
    "ExecuteTime": {
     "end_time": "2021-01-31T09:46:33.100137Z",
     "start_time": "2021-01-31T09:46:33.091131Z"
    }
   },
   "outputs": [
    {
     "name": "stdout",
     "output_type": "stream",
     "text": [
      "Final Score on 10 = 8.229166666666666\n"
     ]
    }
   ],
   "source": [
    "print(\"Final Score on 10 =\",final_score(score_1,score_2))"
   ]
  },
  {
   "cell_type": "code",
   "execution_count": null,
   "metadata": {},
   "outputs": [],
   "source": []
  }
 ],
 "metadata": {
  "kernelspec": {
   "display_name": "Python 3",
   "language": "python",
   "name": "python3"
  },
  "language_info": {
   "codemirror_mode": {
    "name": "ipython",
    "version": 3
   },
   "file_extension": ".py",
   "mimetype": "text/x-python",
   "name": "python",
   "nbconvert_exporter": "python",
   "pygments_lexer": "ipython3",
   "version": "3.7.8"
  }
 },
 "nbformat": 4,
 "nbformat_minor": 4
}
