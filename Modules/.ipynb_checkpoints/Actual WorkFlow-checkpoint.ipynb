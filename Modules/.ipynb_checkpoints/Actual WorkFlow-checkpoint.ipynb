{
 "cells": [
  {
   "cell_type": "markdown",
   "metadata": {
    "ExecuteTime": {
     "end_time": "2021-04-30T13:30:28.308662Z",
     "start_time": "2021-04-30T13:30:28.293696Z"
    }
   },
   "source": [
    "**Generate Text**"
   ]
  },
  {
   "cell_type": "code",
   "execution_count": 9,
   "metadata": {
    "ExecuteTime": {
     "end_time": "2021-04-30T13:40:25.153945Z",
     "start_time": "2021-04-30T13:40:25.138946Z"
    }
   },
   "outputs": [],
   "source": [
    "from Generator_Module.generator_v2 import gpt2_generator"
   ]
  },
  {
   "cell_type": "code",
   "execution_count": 10,
   "metadata": {
    "ExecuteTime": {
     "end_time": "2021-04-30T13:41:11.301354Z",
     "start_time": "2021-04-30T13:40:41.513520Z"
    }
   },
   "outputs": [
    {
     "name": "stderr",
     "output_type": "stream",
     "text": [
      "Setting `pad_token_id` to 50256 (first `eos_token_id`) to generate sequence\n"
     ]
    },
    {
     "data": {
      "text/plain": [
       "'Out of office during the 1930s, Churchill took the lead in calling for British rearmament to counter the growing threat of militarism in Nazi Germany. At the outbreak of the Second World War he was re-appointed First Lord of the Admiralty. In May 1940, he became Prime Minister, replacing Neville Chamberlain. Churchill oversaw British involvement in the Allied war effort against the Axis powers, resulting in victory in 1945. After the Conservatives defeat in the 1945 general election, he became Leader of the Opposition. In 1945 then, he was elected Prime Minister. The Labour party\\'s leadership, led by former MP Ed Balls, brought the Labour Party down to 20th place in the 1948 General Election. To replace him, Jeremy Corbyn was elected Prime Minister of the Labour Party. In October 2016, Corbyn joined his wife in advocating for a \"Labour government, with the Prime Minister of Great Britain, with her British friends.\" He is currently serving a 12 year prison sentence for his role helping to elect a Labour government.  He has called on all those who are under the influence of alcohol to stop trying to be \"binge drunk.\" One article on his blog states, \"The only times I can guarantee you that drink is not a virtue is when you are under the influence of alcohol – and sometimes you can get a little bit of that. When I was young I never really got into being a fan. Then I started to drink all the time,\" and as he also said, \"I didn\\'t really see what it really was like going to jail for drinking. I just wanted a little bit of alcohol to help me get back together with my family and get that hangover from last February.\"   \"There\\'s a very important place in my heart for people to be if you can. If you are in the public eye, you should look at it. Don\\'t you think that you\\'d have done a better job with your own family than anybody else?\" He will be in hospital and'"
      ]
     },
     "execution_count": 10,
     "metadata": {},
     "output_type": "execute_result"
    }
   ],
   "source": [
    "data_dict = gpt2_generator()\n",
    "to_read = data_dict['to_read']\n",
    "to_read = to_read.replace('\\n',' ') #clean to read\n",
    "to_read"
   ]
  },
  {
   "cell_type": "code",
   "execution_count": 12,
   "metadata": {
    "ExecuteTime": {
     "end_time": "2021-04-30T13:42:52.190313Z",
     "start_time": "2021-04-30T13:42:52.177354Z"
    }
   },
   "outputs": [],
   "source": [
    "to_check = data_dict['to_check']"
   ]
  },
  {
   "cell_type": "markdown",
   "metadata": {
    "ExecuteTime": {
     "end_time": "2021-04-30T13:39:07.692809Z",
     "start_time": "2021-04-30T13:39:07.680853Z"
    }
   },
   "source": [
    "**Recieve Audio from User**"
   ]
  },
  {
   "cell_type": "code",
   "execution_count": 22,
   "metadata": {
    "ExecuteTime": {
     "end_time": "2021-04-30T15:33:17.589381Z",
     "start_time": "2021-04-30T15:33:17.273580Z"
    }
   },
   "outputs": [
    {
     "name": "stdout",
     "output_type": "stream",
     "text": [
      "* recording\n"
     ]
    }
   ],
   "source": [
    "import pyaudio\n",
    "import wave\n",
    "\n",
    "CHUNK = 1024\n",
    "FORMAT = pyaudio.paInt16\n",
    "CHANNELS = 2\n",
    "RATE = 44100\n",
    "RECORD_SECONDS = 5\n",
    "WAVE_OUTPUT_FILENAME = \"output.wav\"\n",
    "\n",
    "p = pyaudio.PyAudio()\n",
    "\n",
    "stream = p.open(format=FORMAT,\n",
    "                channels=CHANNELS,\n",
    "                rate=RATE,\n",
    "                input=True,\n",
    "                frames_per_buffer=CHUNK)\n",
    "\n",
    "print(\"* recording\")\n",
    "frames = []\n",
    "\n",
    "for i in range(0, int(RATE / CHUNK * RECORD_SECONDS)):\n",
    "    data = stream.read(CHUNK)\n",
    "    frames.append(data)\n",
    "\n",
    "print(\"* done recording\")\n",
    "\n",
    "stream.stop_stream()\n",
    "stream.close()\n",
    "p.terminate()\n",
    "\n",
    "wf = wave.open(WAVE_OUTPUT_FILENAME, 'wb')\n",
    "wf.setnchannels(CHANNELS)\n",
    "wf.setsampwidth(p.get_sample_size(FORMAT))\n",
    "wf.setframerate(RATE)\n",
    "wf.writeframes(b''.join(frames))\n",
    "wf.close()"
   ]
  },
  {
   "cell_type": "code",
   "execution_count": null,
   "metadata": {},
   "outputs": [],
   "source": []
  },
  {
   "cell_type": "code",
   "execution_count": null,
   "metadata": {},
   "outputs": [],
   "source": []
  },
  {
   "cell_type": "code",
   "execution_count": null,
   "metadata": {},
   "outputs": [],
   "source": []
  },
  {
   "cell_type": "code",
   "execution_count": null,
   "metadata": {},
   "outputs": [],
   "source": []
  },
  {
   "cell_type": "code",
   "execution_count": null,
   "metadata": {},
   "outputs": [],
   "source": []
  }
 ],
 "metadata": {
  "kernelspec": {
   "display_name": "Python 3",
   "language": "python",
   "name": "python3"
  },
  "language_info": {
   "codemirror_mode": {
    "name": "ipython",
    "version": 3
   },
   "file_extension": ".py",
   "mimetype": "text/x-python",
   "name": "python",
   "nbconvert_exporter": "python",
   "pygments_lexer": "ipython3",
   "version": "3.7.8"
  }
 },
 "nbformat": 4,
 "nbformat_minor": 4
}
