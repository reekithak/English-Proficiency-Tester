{
 "cells": [
  {
   "cell_type": "markdown",
   "metadata": {
    "ExecuteTime": {
     "end_time": "2021-04-30T07:07:42.914656Z",
     "start_time": "2021-04-30T07:07:42.890659Z"
    }
   },
   "source": [
    "**Generate Text - Paragraph**"
   ]
  },
  {
   "cell_type": "code",
   "execution_count": 38,
   "metadata": {
    "ExecuteTime": {
     "end_time": "2021-04-30T07:32:58.654399Z",
     "start_time": "2021-04-30T07:32:58.636403Z"
    }
   },
   "outputs": [],
   "source": [
    "from essential_generators import DocumentGenerator"
   ]
  },
  {
   "cell_type": "code",
   "execution_count": 39,
   "metadata": {
    "ExecuteTime": {
     "end_time": "2021-04-30T07:33:01.617215Z",
     "start_time": "2021-04-30T07:32:59.138218Z"
    }
   },
   "outputs": [],
   "source": [
    "gen = DocumentGenerator()"
   ]
  },
  {
   "cell_type": "code",
   "execution_count": 60,
   "metadata": {
    "ExecuteTime": {
     "end_time": "2021-04-30T07:35:16.149838Z",
     "start_time": "2021-04-30T07:35:16.131839Z"
    }
   },
   "outputs": [],
   "source": [
    "para = gen.paragraph()\n",
    "l = len(para)"
   ]
  },
  {
   "cell_type": "code",
   "execution_count": 61,
   "metadata": {
    "ExecuteTime": {
     "end_time": "2021-04-30T07:35:16.337475Z",
     "start_time": "2021-04-30T07:35:16.328438Z"
    }
   },
   "outputs": [],
   "source": [
    "while(l<400):\n",
    "    para = gen.paragraph()\n",
    "    l = len(para)\n",
    "    "
   ]
  },
  {
   "cell_type": "code",
   "execution_count": 62,
   "metadata": {
    "ExecuteTime": {
     "end_time": "2021-04-30T07:35:16.478120Z",
     "start_time": "2021-04-30T07:35:16.459126Z"
    }
   },
   "outputs": [
    {
     "data": {
      "text/plain": [
       "'Small lakes fur trading with local winds, resulting in various formats. for compounds that. Only film singular, aswia, which refers both to the convention on. Empire style belief, belief being that on which he. Situation. cross-sectional major performing arts venue. Duty (deon). countries, jurists who hold law degrees are held in la plata, mar. Network, leading disheartened at the present geacron historical atlas online. Suspended particulate heavily affected by the american institute of. Published and james, the establishment of family. Brand management, small parts of.'"
      ]
     },
     "execution_count": 62,
     "metadata": {},
     "output_type": "execute_result"
    }
   ],
   "source": [
    "para"
   ]
  },
  {
   "cell_type": "markdown",
   "metadata": {},
   "source": [
    "**Clean the Text**"
   ]
  },
  {
   "cell_type": "code",
   "execution_count": 63,
   "metadata": {
    "ExecuteTime": {
     "end_time": "2021-04-30T07:35:17.681160Z",
     "start_time": "2021-04-30T07:35:17.673158Z"
    }
   },
   "outputs": [],
   "source": [
    "from cleantext import clean"
   ]
  },
  {
   "cell_type": "code",
   "execution_count": 64,
   "metadata": {
    "ExecuteTime": {
     "end_time": "2021-04-30T07:35:18.104278Z",
     "start_time": "2021-04-30T07:35:18.082285Z"
    }
   },
   "outputs": [],
   "source": [
    "para = clean(para,\n",
    "    fix_unicode=True,               # fix various unicode errors\n",
    "    to_ascii=True,                  # transliterate to closest ASCII representation\n",
    "    lower=True,                     # lowercase text\n",
    "    no_line_breaks=False,           # fully strip line breaks as opposed to only normalizing them\n",
    "    no_urls=False,                  # replace all URLs with a special token\n",
    "    no_emails=False,                # replace all email addresses with a special token\n",
    "    no_phone_numbers=False,         # replace all phone numbers with a special token\n",
    "    no_numbers=False,               # replace all numbers with a special token\n",
    "    no_digits=False,                # replace all digits with a special token\n",
    "    no_currency_symbols=False,      # replace all currency symbols with a special token\n",
    "    no_punct=False,                 # remove punctuations\n",
    "    replace_with_punct=\"\",          # instead of removing punctuations you may replace them\n",
    "    replace_with_url=\"<URL>\",\n",
    "    replace_with_email=\"<EMAIL>\",\n",
    "    replace_with_phone_number=\"<PHONE>\",\n",
    "    replace_with_number=\"<NUMBER>\",\n",
    "    replace_with_digit=\"0\",\n",
    "    replace_with_currency_symbol=\"<CUR>\",\n",
    "    lang=\"en\"                       # set to 'de' for German special handling\n",
    ")"
   ]
  },
  {
   "cell_type": "code",
   "execution_count": 65,
   "metadata": {
    "ExecuteTime": {
     "end_time": "2021-04-30T07:35:18.526370Z",
     "start_time": "2021-04-30T07:35:18.514346Z"
    }
   },
   "outputs": [
    {
     "data": {
      "text/plain": [
       "'small lakes fur trading with local winds, resulting in various formats. for compounds that. only film singular, aswia, which refers both to the convention on. empire style belief, belief being that on which he. situation. cross-sectional major performing arts venue. duty (deon). countries, jurists who hold law degrees are held in la plata, mar. network, leading disheartened at the present geacron historical atlas online. suspended particulate heavily affected by the american institute of. published and james, the establishment of family. brand management, small parts of.'"
      ]
     },
     "execution_count": 65,
     "metadata": {},
     "output_type": "execute_result"
    }
   ],
   "source": [
    "para"
   ]
  },
  {
   "cell_type": "code",
   "execution_count": null,
   "metadata": {},
   "outputs": [],
   "source": []
  },
  {
   "cell_type": "code",
   "execution_count": 69,
   "metadata": {
    "ExecuteTime": {
     "end_time": "2021-04-30T07:36:01.777261Z",
     "start_time": "2021-04-30T07:36:01.770258Z"
    }
   },
   "outputs": [],
   "source": [
    "def clean_for_read(para):\n",
    "    import re\n",
    "    import string\n",
    "    import nltk\n",
    "    stopwords = nltk.corpus.stopwords.words('english')\n",
    "    para = \"\".join([i for i in para if i not in string.punctuation])\n",
    "    para = \"\".join([i.lower() for i in para if i not in string.punctuation])\n",
    "    para = para.replace('\\n',' ')\n",
    "    para = para.replace(\"%\",\" Percentage\")\n",
    "    return para\n",
    "    "
   ]
  },
  {
   "cell_type": "code",
   "execution_count": 70,
   "metadata": {
    "ExecuteTime": {
     "end_time": "2021-04-30T07:36:01.980568Z",
     "start_time": "2021-04-30T07:36:01.969565Z"
    }
   },
   "outputs": [
    {
     "data": {
      "text/plain": [
       "'small lakes fur trading with local winds resulting in various formats for compounds that only film singular aswia which refers both to the convention on empire style belief belief being that on which he situation crosssectional major performing arts venue duty deon countries jurists who hold law degrees are held in la plata mar network leading disheartened at the present geacron historical atlas online suspended particulate heavily affected by the american institute of published and james the establishment of family brand management small parts of'"
      ]
     },
     "execution_count": 70,
     "metadata": {},
     "output_type": "execute_result"
    }
   ],
   "source": [
    "clean_for_read(para)"
   ]
  },
  {
   "cell_type": "code",
   "execution_count": null,
   "metadata": {},
   "outputs": [],
   "source": []
  }
 ],
 "metadata": {
  "kernelspec": {
   "display_name": "Python 3",
   "language": "python",
   "name": "python3"
  },
  "language_info": {
   "codemirror_mode": {
    "name": "ipython",
    "version": 3
   },
   "file_extension": ".py",
   "mimetype": "text/x-python",
   "name": "python",
   "nbconvert_exporter": "python",
   "pygments_lexer": "ipython3",
   "version": "3.7.8"
  }
 },
 "nbformat": 4,
 "nbformat_minor": 4
}
