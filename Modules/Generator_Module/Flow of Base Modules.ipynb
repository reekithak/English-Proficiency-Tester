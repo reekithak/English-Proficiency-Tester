{
 "cells": [
  {
   "cell_type": "code",
   "execution_count": 1,
   "metadata": {
    "ExecuteTime": {
     "end_time": "2021-04-30T08:28:01.857971Z",
     "start_time": "2021-04-30T08:28:01.851006Z"
    }
   },
   "outputs": [],
   "source": [
    "from generate_text import generate_to_read , clean_to_pass"
   ]
  },
  {
   "cell_type": "code",
   "execution_count": 4,
   "metadata": {
    "ExecuteTime": {
     "end_time": "2021-04-30T12:12:01.307648Z",
     "start_time": "2021-04-30T12:11:58.662182Z"
    }
   },
   "outputs": [
    {
     "data": {
      "text/plain": [
       "'about to southward and began a rapid. used sporadically. numbers eventually appear, those. popular form energy. toyabe et al?. eleutherian adventurers, alternative word with cognates in every 302). limb, limb, limb. york. springwood major crops include onions.. washes her top 50 chemical producers in 2013. chipped away. 365 days a year. by comparison, the oldest and deepest in the world.. angeles. each some concern has been at the. the facility french-speaking liberals, social democrats formed. himself being therapy, for the humanities works to.'"
      ]
     },
     "execution_count": 4,
     "metadata": {},
     "output_type": "execute_result"
    }
   ],
   "source": [
    "generate_to_read()"
   ]
  },
  {
   "cell_type": "code",
   "execution_count": null,
   "metadata": {},
   "outputs": [],
   "source": []
  }
 ],
 "metadata": {
  "kernelspec": {
   "display_name": "Python 3",
   "language": "python",
   "name": "python3"
  },
  "language_info": {
   "codemirror_mode": {
    "name": "ipython",
    "version": 3
   },
   "file_extension": ".py",
   "mimetype": "text/x-python",
   "name": "python",
   "nbconvert_exporter": "python",
   "pygments_lexer": "ipython3",
   "version": "3.7.8"
  }
 },
 "nbformat": 4,
 "nbformat_minor": 4
}
