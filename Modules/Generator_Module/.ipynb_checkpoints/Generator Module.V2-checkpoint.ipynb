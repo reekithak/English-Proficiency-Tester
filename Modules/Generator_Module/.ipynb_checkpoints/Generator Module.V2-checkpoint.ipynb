{
 "cells": [
  {
   "cell_type": "code",
   "execution_count": 1,
   "metadata": {
    "ExecuteTime": {
     "end_time": "2021-04-30T13:01:21.241034Z",
     "start_time": "2021-04-30T13:01:04.680722Z"
    }
   },
   "outputs": [],
   "source": [
    "import torch\n",
    "from transformers import GPT2LMHeadModel, GPT2Tokenizer"
   ]
  },
  {
   "cell_type": "code",
   "execution_count": 2,
   "metadata": {
    "ExecuteTime": {
     "end_time": "2021-04-30T13:04:59.730119Z",
     "start_time": "2021-04-30T13:01:23.744785Z"
    }
   },
   "outputs": [
    {
     "data": {
      "application/vnd.jupyter.widget-view+json": {
       "model_id": "5c21a925431f4088bc986901368c48de",
       "version_major": 2,
       "version_minor": 0
      },
      "text/plain": [
       "HBox(children=(FloatProgress(value=0.0, description='Downloading', max=1042301.0, style=ProgressStyle(descript…"
      ]
     },
     "metadata": {},
     "output_type": "display_data"
    },
    {
     "name": "stdout",
     "output_type": "stream",
     "text": [
      "\n"
     ]
    },
    {
     "data": {
      "application/vnd.jupyter.widget-view+json": {
       "model_id": "fe6fcd6c392e48e5871320b5f0ec0637",
       "version_major": 2,
       "version_minor": 0
      },
      "text/plain": [
       "HBox(children=(FloatProgress(value=0.0, description='Downloading', max=456318.0, style=ProgressStyle(descripti…"
      ]
     },
     "metadata": {},
     "output_type": "display_data"
    },
    {
     "name": "stdout",
     "output_type": "stream",
     "text": [
      "\n"
     ]
    },
    {
     "data": {
      "application/vnd.jupyter.widget-view+json": {
       "model_id": "bfdbb281a167411780e0157e849a2cef",
       "version_major": 2,
       "version_minor": 0
      },
      "text/plain": [
       "HBox(children=(FloatProgress(value=0.0, description='Downloading', max=665.0, style=ProgressStyle(description_…"
      ]
     },
     "metadata": {},
     "output_type": "display_data"
    },
    {
     "name": "stdout",
     "output_type": "stream",
     "text": [
      "\n"
     ]
    },
    {
     "data": {
      "application/vnd.jupyter.widget-view+json": {
       "model_id": "5fe9a3537d234de087a4e50d58a038ae",
       "version_major": 2,
       "version_minor": 0
      },
      "text/plain": [
       "HBox(children=(FloatProgress(value=0.0, description='Downloading', max=548118077.0, style=ProgressStyle(descri…"
      ]
     },
     "metadata": {},
     "output_type": "display_data"
    },
    {
     "name": "stdout",
     "output_type": "stream",
     "text": [
      "\n"
     ]
    }
   ],
   "source": [
    "# initialize tokenizer and model from pretrained GPT2 model\n",
    "tokenizer = GPT2Tokenizer.from_pretrained('gpt2')\n",
    "model = GPT2LMHeadModel.from_pretrained('gpt2')"
   ]
  },
  {
   "cell_type": "code",
   "execution_count": 4,
   "metadata": {
    "ExecuteTime": {
     "end_time": "2021-04-30T13:07:05.446545Z",
     "start_time": "2021-04-30T13:07:05.437543Z"
    }
   },
   "outputs": [],
   "source": [
    "list_of_sequences = [\n",
    "    'Out of office during the 1930s, Churchill took the lead in calling for British rearmament to counter the growing threat of militarism in Nazi Germany. At the outbreak of the Second World War he was re-appointed First Lord of the Admiralty. In May 1940, he became Prime Minister, replacing Neville Chamberlain. Churchill oversaw British involvement in the Allied war effort against the Axis powers, resulting in victory in 1945. After the Conservatives defeat in the 1945 general election, he became Leader of the Opposition',\n",
    "    'Artificial intelligence was founded as an academic discipline in 1955, and in the years since has experienced several waves of optimism,followed by disappointment and the loss of funding (known as an \"AI winter\"), followed by new approaches, success and renewed funding.[14][17] After AlphaGo successfully defeated a professional Go player in 2015, artificial intelligence once again attracted widespread global attention',\n",
    "    'Technology has many effects. It has helped develop more advanced economies (including todays global economy) and has allowed the rise of a leisure class. Many technological processes produce unwanted by-products known as pollution and deplete natural resources to the detriment of Earths environment. Innovations have always influenced the values of a society and raised new questions in the ethics of technology. Examples include the rise of the notion of efficiency in terms of human productivity, and the challenges of bioethics',\n",
    "    'Nature has furnished us with numerous significant assets like water, air, food, therapeutic plants, fire, fuels, woods, and trees, and so forth. Every one of these assets helps us for different purposes. As a whole, we realize that our endurance will turn out to be difficult or end without them. As they serve us, they likewise need our adoration and service.',\n",
    "    'We should love every creation of God, regardless of whether a plant or a creature. We should treat them with affection, and attempt to secure them, however much as it is possible to do. Likewise, cherishing nature incorporates keeping the air and water clean, planting numerous trees, taking care of the variety of animals, treating harmed creatures or helpless humans, and so on. Our acts of love will include a touch of paradise the earth',\n",
    "    'Everybody makes a few companions at various phases of life. A few companionships last more while some end in only a couple of months. The fundamental explanation for it is the presence of love. Indeed, even we ought to have a sentiment of affection for the needy and poor. They deserve our love the most. We should that is why show our love and affection to everybody irrespective of any differences among each other'\n",
    "                    ]"
   ]
  },
  {
   "cell_type": "code",
   "execution_count": 5,
   "metadata": {
    "ExecuteTime": {
     "end_time": "2021-04-30T13:08:28.825848Z",
     "start_time": "2021-04-30T13:08:28.807851Z"
    }
   },
   "outputs": [],
   "source": [
    "# Selecting a random sequence\n",
    "import random\n",
    "sequence = list_of_sequences[random.randint(0, 5)]"
   ]
  },
  {
   "cell_type": "code",
   "execution_count": 6,
   "metadata": {
    "ExecuteTime": {
     "end_time": "2021-04-30T13:08:33.943692Z",
     "start_time": "2021-04-30T13:08:33.919696Z"
    }
   },
   "outputs": [
    {
     "data": {
      "text/plain": [
       "'We should love every creation of God, regardless of whether a plant or a creature. We should treat them with affection, and attempt to secure them, however much as it is possible to do. Likewise, cherishing nature incorporates keeping the air and water clean, planting numerous trees, taking care of the variety of animals, treating harmed creatures or helpless humans, and so on. Our acts of love will include a touch of paradise the earth'"
      ]
     },
     "execution_count": 6,
     "metadata": {},
     "output_type": "execute_result"
    }
   ],
   "source": [
    "sequence"
   ]
  },
  {
   "cell_type": "code",
   "execution_count": 7,
   "metadata": {
    "ExecuteTime": {
     "end_time": "2021-04-30T13:08:36.092032Z",
     "start_time": "2021-04-30T13:08:36.070897Z"
    }
   },
   "outputs": [],
   "source": [
    "inputs = tokenizer.encode(sequence, return_tensors='pt')"
   ]
  },
  {
   "cell_type": "code",
   "execution_count": 8,
   "metadata": {
    "ExecuteTime": {
     "end_time": "2021-04-30T13:08:46.635794Z",
     "start_time": "2021-04-30T13:08:37.680268Z"
    }
   },
   "outputs": [
    {
     "name": "stderr",
     "output_type": "stream",
     "text": [
      "Setting `pad_token_id` to 50256 (first `eos_token_id`) to generate sequence\n"
     ]
    }
   ],
   "source": [
    "# we pass a maximum output length of 200 tokens\n",
    "outputs = model.generate(inputs, max_length=200, do_sample=True)"
   ]
  },
  {
   "cell_type": "code",
   "execution_count": 9,
   "metadata": {
    "ExecuteTime": {
     "end_time": "2021-04-30T13:08:46.666785Z",
     "start_time": "2021-04-30T13:08:46.637756Z"
    }
   },
   "outputs": [],
   "source": [
    "text = tokenizer.decode(outputs[0], skip_special_tokens=True)"
   ]
  },
  {
   "cell_type": "code",
   "execution_count": 10,
   "metadata": {
    "ExecuteTime": {
     "end_time": "2021-04-30T13:08:49.072019Z",
     "start_time": "2021-04-30T13:08:49.055024Z"
    }
   },
   "outputs": [
    {
     "data": {
      "text/plain": [
       "'We should love every creation of God, regardless of whether a plant or a creature. We should treat them with affection, and attempt to secure them, however much as it is possible to do. Likewise, cherishing nature incorporates keeping the air and water clean, planting numerous trees, taking care of the variety of animals, treating harmed creatures or helpless humans, and so on. Our acts of love will include a touch of paradise the earth deserves. These two sentiments will continue to grow, perhaps one year at least. In the new year when these two and similar thoughts become relevant to all of us, we will know that there is hope in heaven, and that we will be able to make a difference. In the last years before the Fall, there will be a call from heaven \"for those who are hungry.\"\\n\\nAll of us are blessed with infinite gifts and possibilities. Each in their own way may be deserving of them. Thus, as all of us are blessed with the gifts of humanity'"
      ]
     },
     "execution_count": 10,
     "metadata": {},
     "output_type": "execute_result"
    }
   ],
   "source": [
    "text"
   ]
  },
  {
   "cell_type": "code",
   "execution_count": 11,
   "metadata": {
    "ExecuteTime": {
     "end_time": "2021-04-30T13:09:51.792782Z",
     "start_time": "2021-04-30T13:09:50.840340Z"
    }
   },
   "outputs": [],
   "source": [
    "from generate_text_v1 import clean_to_pass\n",
    "clean_text = clean_to_pass(text)"
   ]
  },
  {
   "cell_type": "code",
   "execution_count": 12,
   "metadata": {
    "ExecuteTime": {
     "end_time": "2021-04-30T13:09:53.981372Z",
     "start_time": "2021-04-30T13:09:53.961842Z"
    }
   },
   "outputs": [
    {
     "data": {
      "text/plain": [
       "'we should love every creation of god regardless of whether a plant or a creature we should treat them with affection and attempt to secure them however much as it is possible to do likewise cherishing nature incorporates keeping the air and water clean planting numerous trees taking care of the variety of animals treating harmed creatures or helpless humans and so on our acts of love will include a touch of paradise the earth deserves these two sentiments will continue to grow perhaps one year at least in the new year when these two and similar thoughts become relevant to all of us we will know that there is hope in heaven and that we will be able to make a difference in the last years before the fall there will be a call from heaven for those who are hungry  all of us are blessed with infinite gifts and possibilities each in their own way may be deserving of them thus as all of us are blessed with the gifts of humanity'"
      ]
     },
     "execution_count": 12,
     "metadata": {},
     "output_type": "execute_result"
    }
   ],
   "source": [
    "clean_text"
   ]
  },
  {
   "cell_type": "code",
   "execution_count": 15,
   "metadata": {
    "ExecuteTime": {
     "end_time": "2021-04-30T13:10:51.253348Z",
     "start_time": "2021-04-30T13:10:51.239337Z"
    }
   },
   "outputs": [
    {
     "ename": "SyntaxError",
     "evalue": "'return' outside function (<ipython-input-15-f2a2f0b73efb>, line 1)",
     "output_type": "error",
     "traceback": [
      "\u001b[1;36m  File \u001b[1;32m\"<ipython-input-15-f2a2f0b73efb>\"\u001b[1;36m, line \u001b[1;32m1\u001b[0m\n\u001b[1;33m    return {\u001b[0m\n\u001b[1;37m            ^\u001b[0m\n\u001b[1;31mSyntaxError\u001b[0m\u001b[1;31m:\u001b[0m 'return' outside function\n"
     ]
    }
   ],
   "source": [
    "return {\n",
    "    'to_read':text,\n",
    "    'to_check':clean_text\n",
    "}"
   ]
  },
  {
   "cell_type": "markdown",
   "metadata": {},
   "source": [
    "**Run Generator Module**"
   ]
  },
  {
   "cell_type": "code",
   "execution_count": 16,
   "metadata": {
    "ExecuteTime": {
     "end_time": "2021-04-30T13:14:26.654860Z",
     "start_time": "2021-04-30T13:14:26.641860Z"
    }
   },
   "outputs": [],
   "source": [
    "from generator_v2 import gpt2_generator"
   ]
  },
  {
   "cell_type": "code",
   "execution_count": 18,
   "metadata": {
    "ExecuteTime": {
     "end_time": "2021-04-30T13:15:11.525419Z",
     "start_time": "2021-04-30T13:14:39.890583Z"
    }
   },
   "outputs": [
    {
     "name": "stderr",
     "output_type": "stream",
     "text": [
      "Setting `pad_token_id` to 50256 (first `eos_token_id`) to generate sequence\n"
     ]
    }
   ],
   "source": [
    "n_dict = gpt2_generator()"
   ]
  },
  {
   "cell_type": "code",
   "execution_count": 20,
   "metadata": {
    "ExecuteTime": {
     "end_time": "2021-04-30T13:15:36.078764Z",
     "start_time": "2021-04-30T13:15:36.063773Z"
    }
   },
   "outputs": [
    {
     "data": {
      "text/plain": [
       "'Artificial intelligence was founded as an academic discipline in 1955, and in the years since has experienced several waves of optimism,followed by disappointment and the loss of funding (known as an \"AI winter\"), followed by new approaches, success and renewed funding.[14][17] After AlphaGo successfully defeated a professional Go player in 2015, artificial intelligence once again attracted widespread global attention and became a powerful and attractive economic tool for the world\\'s corporations and large institutional investors.\\n\\nIt is a popular name for artificial intelligence, and its work is promoted as a model for other forms of AI, such as artificial intelligence and general intelligence, where it does not use humans, but rather allows the creation of a new world in which all other human activities must replace human tasks. The name is derived from the \\'AI winter\\' event (the \"AI fire is heating up\" in the English Wikipedia entry titled \"The AI winter\"). When the game was first announced, the focus was almost exclusively on artificial intelligence and its work (although the event could also refer to a computer scientist working on artificial intelligence or general intelligence) so it became known as the AI winter.\\n\\nMany new, and more complex machine learning approaches are also working to address the various problems that come with machine learning, from general intelligence to self-driving cars in research circles, the \"superintelligence war\" (e.g., Wikipedia post), and even AI-enhanced machine learning. In fact, some of the very first machine learning projects in the United States are funded by AI funding corporations like Google, Facebook and Google Ventures.\\n\\nSee also [ edit ]\\n\\nReferences [ edit ]\\n\\nFurther reading [ edit ]\\n\\nExternal links [ edit ]\\n\\nFor other uses, see these pages.\\n\\nAerospace uses a variety of artificial intelligence techniques like the AlphaGo team\\'s algorithm and AlphaGo\\'s neural network. Many have been named after them, or for example:\\n\\nSources [ edit ]\\n'"
      ]
     },
     "execution_count": 20,
     "metadata": {},
     "output_type": "execute_result"
    }
   ],
   "source": []
  },
  {
   "cell_type": "code",
   "execution_count": null,
   "metadata": {},
   "outputs": [],
   "source": []
  }
 ],
 "metadata": {
  "kernelspec": {
   "display_name": "Python 3",
   "language": "python",
   "name": "python3"
  },
  "language_info": {
   "codemirror_mode": {
    "name": "ipython",
    "version": 3
   },
   "file_extension": ".py",
   "mimetype": "text/x-python",
   "name": "python",
   "nbconvert_exporter": "python",
   "pygments_lexer": "ipython3",
   "version": "3.7.8"
  }
 },
 "nbformat": 4,
 "nbformat_minor": 4
}
