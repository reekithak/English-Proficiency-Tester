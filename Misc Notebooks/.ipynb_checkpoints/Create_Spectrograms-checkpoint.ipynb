{
 "cells": [
  {
   "cell_type": "code",
   "execution_count": 1,
   "metadata": {
    "ExecuteTime": {
     "end_time": "2021-01-14T20:10:05.032389Z",
     "start_time": "2021-01-14T20:09:51.282825Z"
    }
   },
   "outputs": [],
   "source": [
    "import pandas as pd\n",
    "import numpy as np\n",
    "import matplotlib.pyplot as plt\n",
    "%matplotlib inline\n",
    "from glob import glob\n",
    "from memory_profiler import memory_usage\n",
    "import tensorflow as tf\n",
    "from matplotlib import figure\n",
    "import gc\n",
    "from pathlib import Path\n",
    "\n",
    "import librosa\n",
    "import librosa.display\n",
    "import pylab\n",
    "from keras_preprocessing.image import ImageDataGenerator"
   ]
  },
  {
   "cell_type": "code",
   "execution_count": 29,
   "metadata": {},
   "outputs": [],
   "source": [
    "nm = \"good_\"\n",
    "iter_ = 1\n",
    "def create_spectrogram_images(filename,name):\n",
    "    global iter_\n",
    "    plt.interactive(False)\n",
    "    clip,sample_rate = librosa.load(filename,sr=None)\n",
    "    fig = plt.figure(figsize=[0.74,0.74])\n",
    "    \n",
    "    ax = fig.add_subplot(111)\n",
    "    ax.axes.get_xaxis().set_visible(False)\n",
    "    ax.axes.get_yaxis().set_visible(False)\n",
    "    ax.set_frame_on(False)\n",
    "    \n",
    "    s = librosa.feature.melspectrogram(y=clip,sr=sample_rate)\n",
    "    librosa.display.specshow(librosa.power_to_db(s,ref=np.max))\n",
    "    \n",
    "    filename =  #where to save +filename EG : - \"C:/Users/reekithak/Audio_Models/Data/Images/Good/\"+nm+\"_{}\".format(iter_)+'.jpg\"\n",
    "    iter_+=1\n",
    "    plt.savefig(filename,dpi=400,bbox_inches='tight',pad_inches=0)\n",
    "    plt.close()\n",
    "    fig.clf()\n",
    "    plt.close(fig)\n",
    "    plt.close('all')\n",
    "    del filename,name,clip,sample_rate,fig,ax,s"
   ]
  },
  {
   "cell_type": "code",
   "execution_count": 30,
   "metadata": {},
   "outputs": [],
   "source": [
    "def outside_fn():\n",
    "    Data_dir = np.array(glob()) #Where is the audio data Eg:- \"C:/Users/reekithak/Audio_Models/Data/English_split/Good_English_Data/*\"\n",
    "    %load_ext memory_profiler\n",
    "    %memit\n",
    "    i =0 \n",
    "    k=0\n",
    "    for file in Data_dir[i:i+1144]:\n",
    "        #print(file)\n",
    "        filename,name = file,file.split('/')[-1].split('.')[0]\n",
    "        print(name,k)\n",
    "        create_spectrogram_images(filename,name)\n",
    "        k+=1\n",
    "\n",
    "    gc.collect()\n",
    "    \n",
    "outside_fn() #Call the Function to perform the required tasks ! "
   ]
  },
  {
   "cell_type": "code",
   "execution_count": null,
   "metadata": {},
   "outputs": [],
   "source": []
  }
 ],
 "metadata": {
  "kernelspec": {
   "display_name": "Python 3",
   "language": "python",
   "name": "python3"
  },
  "language_info": {
   "codemirror_mode": {
    "name": "ipython",
    "version": 3
   },
   "file_extension": ".py",
   "mimetype": "text/x-python",
   "name": "python",
   "nbconvert_exporter": "python",
   "pygments_lexer": "ipython3",
   "version": "3.7.8"
  }
 },
 "nbformat": 4,
 "nbformat_minor": 4
}
