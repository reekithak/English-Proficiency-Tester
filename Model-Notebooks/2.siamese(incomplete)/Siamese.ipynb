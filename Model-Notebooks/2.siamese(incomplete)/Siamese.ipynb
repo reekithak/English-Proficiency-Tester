{
 "cells": [
  {
   "cell_type": "markdown",
   "metadata": {
    "ExecuteTime": {
     "end_time": "2021-01-12T06:42:51.228428Z",
     "start_time": "2021-01-12T06:42:51.215427Z"
    }
   },
   "source": [
    "**Libraries**"
   ]
  },
  {
   "cell_type": "code",
   "execution_count": 1,
   "metadata": {
    "ExecuteTime": {
     "end_time": "2021-01-12T06:59:25.818023Z",
     "start_time": "2021-01-12T06:59:18.831413Z"
    }
   },
   "outputs": [],
   "source": [
    "from keras.layers import Input, Conv2D, Lambda, merge, Dense, Flatten,MaxPooling2D,Activation, Dropout\n",
    "from keras.models import Model, Sequential\n",
    "from keras.regularizers import l2\n",
    "from keras import backend as K\n",
    "from keras.optimizers import Adam\n",
    "from keras import optimizers\n",
    "import matplotlib.pyplot as plt\n",
    "import numpy as np\n",
    "import pandas as pd\n",
    "import random\n",
    "from keras import backend as K\n",
    "#K.tensorflow_backend.set_session(sess)"
   ]
  },
  {
   "cell_type": "markdown",
   "metadata": {},
   "source": [
    "**TL-models**"
   ]
  },
  {
   "cell_type": "code",
   "execution_count": 2,
   "metadata": {
    "ExecuteTime": {
     "end_time": "2021-01-12T06:59:25.831753Z",
     "start_time": "2021-01-12T06:59:25.821782Z"
    }
   },
   "outputs": [],
   "source": [
    "from keras.applications import resnet50, vgg16, vgg19, xception,densenet, inception_v3, mobilenet,  nasnet, inception_resnet_v2"
   ]
  },
  {
   "cell_type": "markdown",
   "metadata": {},
   "source": [
    "**Add-ons**"
   ]
  },
  {
   "cell_type": "code",
   "execution_count": 3,
   "metadata": {
    "ExecuteTime": {
     "end_time": "2021-01-12T06:59:25.856849Z",
     "start_time": "2021-01-12T06:59:25.837178Z"
    }
   },
   "outputs": [],
   "source": [
    "import tensorflow as tf\n",
    "from keras.callbacks import ModelCheckpoint, TensorBoard, CSVLogger, EarlyStopping\n",
    "from keras.applications.resnet50 import preprocess_input\n",
    "import os\n",
    "import datetime\n",
    "import json\n",
    "from keras.preprocessing.image import ImageDataGenerator"
   ]
  },
  {
   "cell_type": "code",
   "execution_count": 5,
   "metadata": {
    "ExecuteTime": {
     "end_time": "2021-01-12T06:59:25.903469Z",
     "start_time": "2021-01-12T06:59:25.864148Z"
    }
   },
   "outputs": [],
   "source": [
    "import glob\n",
    "import cv2\n",
    "from random import shuffle"
   ]
  },
  {
   "cell_type": "code",
   "execution_count": 6,
   "metadata": {
    "ExecuteTime": {
     "end_time": "2021-01-12T06:59:25.917137Z",
     "start_time": "2021-01-12T06:59:25.905265Z"
    }
   },
   "outputs": [],
   "source": [
    "bad_path = 'C:\\\\Users\\\\reekithak\\\\Deep Learning\\\\Images\\\\bad\\\\*.jpg'\n",
    "good_path = 'C:\\\\Users\\\\reekithak\\\\Deep Learning\\\\Images\\\\good\\\\*.jpg'"
   ]
  },
  {
   "cell_type": "code",
   "execution_count": 7,
   "metadata": {
    "ExecuteTime": {
     "end_time": "2021-01-12T06:59:25.961058Z",
     "start_time": "2021-01-12T06:59:25.921784Z"
    }
   },
   "outputs": [],
   "source": [
    "addrs_b = glob.glob(bad_path)\n",
    "addrs_g = glob.glob(good_path)\n",
    "labels_b = [1 for addr in addrs_g]  # 1 = good, 0 =  bad\n",
    "labels_g = [0 for addr in addrs_b]"
   ]
  },
  {
   "cell_type": "markdown",
   "metadata": {},
   "source": [
    "**Good**"
   ]
  },
  {
   "cell_type": "code",
   "execution_count": 8,
   "metadata": {
    "ExecuteTime": {
     "end_time": "2021-01-12T06:59:29.660999Z",
     "start_time": "2021-01-12T06:59:25.965009Z"
    }
   },
   "outputs": [],
   "source": [
    "data_g = []\n",
    "for imagePath in addrs_g:\n",
    "    img = cv2.imread(imagePath)\n",
    "    img = cv2.resize(img, (224, 224), interpolation=cv2.INTER_CUBIC)\n",
    "    img = cv2.cvtColor(img, cv2.COLOR_BGR2RGB)\n",
    "    data_g.append(img)"
   ]
  },
  {
   "cell_type": "markdown",
   "metadata": {},
   "source": [
    "**Bad**"
   ]
  },
  {
   "cell_type": "code",
   "execution_count": 9,
   "metadata": {
    "ExecuteTime": {
     "end_time": "2021-01-12T07:00:10.510778Z",
     "start_time": "2021-01-12T06:59:49.454530Z"
    }
   },
   "outputs": [],
   "source": [
    "data_b = []\n",
    "for imagePath in addrs_b:\n",
    "# load the image, pre-process it, and store it in the data list\n",
    "    img = cv2.imread(imagePath)\n",
    "    img = cv2.resize(img, (224, 224), interpolation=cv2.INTER_CUBIC)\n",
    "    img = cv2.cvtColor(img, cv2.COLOR_BGR2RGB)\n",
    "    data_b.append(img)"
   ]
  },
  {
   "cell_type": "markdown",
   "metadata": {},
   "source": [
    "**Shuffling**"
   ]
  },
  {
   "cell_type": "code",
   "execution_count": 10,
   "metadata": {
    "ExecuteTime": {
     "end_time": "2021-01-12T07:01:26.585771Z",
     "start_time": "2021-01-12T07:01:23.188007Z"
    }
   },
   "outputs": [],
   "source": [
    "shuffle_data = True\n",
    "if shuffle_data:\n",
    "    g = list(zip(data_g, labels_g))\n",
    "    b = list(zip(data_b, labels_b))\n",
    "    e = g + b\n",
    "    shuffle(e)\n",
    "    data, labels = zip(*e)\n",
    "del data_g\n",
    "del data_b\n",
    "del addrs_b\n",
    "del addrs_g\n",
    "Y_train = np.array(labels)\n",
    "X_train = np.array(data, dtype=\"int8\")\n",
    "X_train =  preprocess_input(X_train)"
   ]
  },
  {
   "cell_type": "markdown",
   "metadata": {},
   "source": [
    "**Preprocess for Res-Net(50) Arch**"
   ]
  },
  {
   "cell_type": "code",
   "execution_count": 11,
   "metadata": {
    "ExecuteTime": {
     "end_time": "2021-01-12T09:26:56.945210Z",
     "start_time": "2021-01-12T09:26:13.483634Z"
    }
   },
   "outputs": [
    {
     "name": "stdout",
     "output_type": "stream",
     "text": [
      "Downloading data from https://storage.googleapis.com/tensorflow/keras-applications/resnet/resnet50_weights_tf_dim_ordering_tf_kernels_notop.h5\n",
      "94773248/94765736 [==============================] - 1s 0us/step\n"
     ]
    }
   ],
   "source": [
    "left_input = Input((224,224,3))\n",
    "right_input = Input((224,224,3))\n",
    "convnet = resnet50.ResNet50(weights='imagenet', include_top=False, input_shape=(224,224,3))"
   ]
  },
  {
   "cell_type": "code",
   "execution_count": 12,
   "metadata": {
    "ExecuteTime": {
     "end_time": "2021-01-12T09:27:45.506186Z",
     "start_time": "2021-01-12T09:27:45.241421Z"
    }
   },
   "outputs": [],
   "source": [
    "# Add the final fully connected layers\n",
    "x = convnet.output\n",
    "x = Flatten()(x)\n",
    "x = Dense(1024, activation=\"relu\")(x)\n",
    "preds = Dense(18, activation='sigmoid')(x) # Apply sigmoid\n",
    "convnet = Model(inputs=convnet.input, outputs=preds)"
   ]
  },
  {
   "cell_type": "code",
   "execution_count": 13,
   "metadata": {
    "ExecuteTime": {
     "end_time": "2021-01-12T09:27:47.754510Z",
     "start_time": "2021-01-12T09:27:46.556378Z"
    }
   },
   "outputs": [],
   "source": [
    "#Applying above model for both the left and right images\n",
    "encoded_l = convnet(left_input)\n",
    "encoded_r = convnet(right_input)"
   ]
  },
  {
   "cell_type": "code",
   "execution_count": 14,
   "metadata": {
    "ExecuteTime": {
     "end_time": "2021-01-12T09:27:50.693948Z",
     "start_time": "2021-01-12T09:27:50.675951Z"
    }
   },
   "outputs": [],
   "source": [
    "Euc_layer = Lambda(lambda tensor:K.abs(tensor[0] - tensor[1]))"
   ]
  },
  {
   "cell_type": "code",
   "execution_count": 15,
   "metadata": {
    "ExecuteTime": {
     "end_time": "2021-01-12T09:27:51.519859Z",
     "start_time": "2021-01-12T09:27:51.483686Z"
    }
   },
   "outputs": [],
   "source": [
    "# use and add the distance function\n",
    "Euc_distance = Euc_layer([encoded_l, encoded_r])\n",
    "#identify the prediction\n",
    "prediction = Dense(1,activation='sigmoid')(Euc_distance)"
   ]
  },
  {
   "cell_type": "code",
   "execution_count": 16,
   "metadata": {
    "ExecuteTime": {
     "end_time": "2021-01-12T09:27:52.220243Z",
     "start_time": "2021-01-12T09:27:52.195021Z"
    }
   },
   "outputs": [],
   "source": [
    "#Define the network with the left and right inputs and the ouput prediction\n",
    "siamese_net = Model(inputs=[left_input,right_input],outputs=prediction)"
   ]
  },
  {
   "cell_type": "code",
   "execution_count": 17,
   "metadata": {
    "ExecuteTime": {
     "end_time": "2021-01-12T09:27:52.907348Z",
     "start_time": "2021-01-12T09:27:52.892327Z"
    }
   },
   "outputs": [],
   "source": [
    "optim = optimizers.SGD(lr=0.001, decay=.01, momentum=0.9, nesterov=True)"
   ]
  },
  {
   "cell_type": "code",
   "execution_count": 18,
   "metadata": {
    "ExecuteTime": {
     "end_time": "2021-01-12T09:28:01.115899Z",
     "start_time": "2021-01-12T09:28:01.092899Z"
    }
   },
   "outputs": [],
   "source": [
    "siamese_net.compile(loss=\"binary_crossentropy\",optimizer=optim,metrics=[\"accuracy\"])"
   ]
  },
  {
   "cell_type": "code",
   "execution_count": 19,
   "metadata": {
    "ExecuteTime": {
     "end_time": "2021-01-12T09:28:08.695557Z",
     "start_time": "2021-01-12T09:28:08.660526Z"
    }
   },
   "outputs": [
    {
     "name": "stdout",
     "output_type": "stream",
     "text": [
      "Model: \"model_1\"\n",
      "__________________________________________________________________________________________________\n",
      "Layer (type)                    Output Shape         Param #     Connected to                     \n",
      "==================================================================================================\n",
      "input_1 (InputLayer)            [(None, 224, 224, 3) 0                                            \n",
      "__________________________________________________________________________________________________\n",
      "input_2 (InputLayer)            [(None, 224, 224, 3) 0                                            \n",
      "__________________________________________________________________________________________________\n",
      "model (Functional)              (None, 18)           126367634   input_1[0][0]                    \n",
      "                                                                 input_2[0][0]                    \n",
      "__________________________________________________________________________________________________\n",
      "lambda (Lambda)                 (None, 18)           0           model[0][0]                      \n",
      "                                                                 model[1][0]                      \n",
      "__________________________________________________________________________________________________\n",
      "dense_2 (Dense)                 (None, 1)            19          lambda[0][0]                     \n",
      "==================================================================================================\n",
      "Total params: 126,367,653\n",
      "Trainable params: 126,314,533\n",
      "Non-trainable params: 53,120\n",
      "__________________________________________________________________________________________________\n"
     ]
    }
   ],
   "source": [
    "siamese_net.summary()"
   ]
  },
  {
   "cell_type": "markdown",
   "metadata": {},
   "source": [
    "**Creating Train and Test Data**"
   ]
  },
  {
   "cell_type": "code",
   "execution_count": 20,
   "metadata": {
    "ExecuteTime": {
     "end_time": "2021-01-12T09:30:13.007893Z",
     "start_time": "2021-01-12T09:30:13.001858Z"
    }
   },
   "outputs": [
    {
     "data": {
      "text/plain": [
       "((2130, 224, 224, 3), (2130,))"
      ]
     },
     "execution_count": 20,
     "metadata": {},
     "output_type": "execute_result"
    }
   ],
   "source": [
    "X_train.shape , Y_train.shape"
   ]
  },
  {
   "cell_type": "code",
   "execution_count": 25,
   "metadata": {
    "ExecuteTime": {
     "end_time": "2021-01-12T09:29:56.306872Z",
     "start_time": "2021-01-12T09:29:56.289839Z"
    }
   },
   "outputs": [],
   "source": [
    "image_list = X_train[:180]\n",
    "label_list = Y_train[:180]"
   ]
  },
  {
   "cell_type": "code",
   "execution_count": 26,
   "metadata": {
    "ExecuteTime": {
     "end_time": "2021-01-12T09:31:15.247532Z",
     "start_time": "2021-01-12T09:31:15.235541Z"
    }
   },
   "outputs": [],
   "source": [
    "left_input = []\n",
    "right_input = []\n",
    "targets = []\n",
    "pairs = 8"
   ]
  },
  {
   "cell_type": "code",
   "execution_count": 27,
   "metadata": {
    "ExecuteTime": {
     "end_time": "2021-01-12T09:31:15.671495Z",
     "start_time": "2021-01-12T09:31:15.612307Z"
    }
   },
   "outputs": [],
   "source": [
    "#create the dataset to train on\n",
    "for i in range(len(label_list)):\n",
    "    for j in range(pairs):\n",
    "# we need to make sure that we are not comparing with the same image\n",
    "        compare_to = i\n",
    "        while compare_to == i: \n",
    "            compare_to = random.randint(0,179)\n",
    "        left_input.append(image_list[i])\n",
    "        right_input.append(image_list[compare_to])\n",
    "        if label_list[i] == label_list[compare_to]:\n",
    "            # if the images are same then label - 1\n",
    "            targets.append(1.)\n",
    "        else:\n",
    "            # if the images are different then label - 0\n",
    "            targets.append(0.)"
   ]
  },
  {
   "cell_type": "code",
   "execution_count": 28,
   "metadata": {
    "ExecuteTime": {
     "end_time": "2021-01-12T09:31:16.865624Z",
     "start_time": "2021-01-12T09:31:16.843621Z"
    }
   },
   "outputs": [],
   "source": [
    "#removing single dim entries\n",
    "left_input = np.squeeze(np.array(left_input))\n",
    "right_input = np.squeeze(np.array(right_input))\n",
    "targets = np.squeeze(np.array(targets))"
   ]
  },
  {
   "cell_type": "code",
   "execution_count": 29,
   "metadata": {},
   "outputs": [],
   "source": [
    "# Creating test datasets - left, right images and target label\n",
    "good_image = X_train[4] #good_image = 1, bad_image = 0\n",
    "test_left = []\n",
    "test_right = []\n",
    "test_targets = []\n",
    "for i in range(len(Y_train)-180):\n",
    "    test_left.append(good_image)\n",
    "    test_right.append(X_train[i+180])\n",
    "    test_targets.append(Y_train[i+180])\n",
    "test_left = np.squeeze(np.array(test_left))\n",
    "test_right = np.squeeze(np.array(test_right))\n",
    "test_targets = np.squeeze(np.array(test_targets))\n"
   ]
  },
  {
   "cell_type": "code",
   "execution_count": null,
   "metadata": {},
   "outputs": [],
   "source": [
    "siamese_net.fit([left_input,right_input], targets,\n",
    "          batch_size=16,\n",
    "          epochs=30,\n",
    "          verbose=1,\n",
    "          validation_data=([test_left,test_right],test_targets))"
   ]
  },
  {
   "cell_type": "code",
   "execution_count": null,
   "metadata": {},
   "outputs": [],
   "source": []
  }
 ],
 "metadata": {
  "kernelspec": {
   "display_name": "Python 3",
   "language": "python",
   "name": "python3"
  },
  "language_info": {
   "codemirror_mode": {
    "name": "ipython",
    "version": 3
   },
   "file_extension": ".py",
   "mimetype": "text/x-python",
   "name": "python",
   "nbconvert_exporter": "python",
   "pygments_lexer": "ipython3",
   "version": "3.7.0"
  }
 },
 "nbformat": 4,
 "nbformat_minor": 4
}
